{
 "cells": [
  {
   "cell_type": "code",
   "execution_count": 2,
   "metadata": {},
   "outputs": [],
   "source": [
    "import pandas as pd\n",
    "import numpy as np\n",
    "from sklearn.model_selection import train_test_split\n",
    "from sklearn.feature_selection import VarianceThreshold"
   ]
  },
  {
   "cell_type": "code",
   "execution_count": 3,
   "metadata": {},
   "outputs": [],
   "source": [
    "train = pd.read_csv('train_sant.csv')"
   ]
  },
  {
   "cell_type": "code",
   "execution_count": 4,
   "metadata": {},
   "outputs": [],
   "source": [
    "test= pd.read_csv('test_sant.csv')"
   ]
  },
  {
   "cell_type": "code",
   "execution_count": 5,
   "metadata": {},
   "outputs": [
    {
     "data": {
      "text/html": [
       "<div>\n",
       "<style scoped>\n",
       "    .dataframe tbody tr th:only-of-type {\n",
       "        vertical-align: middle;\n",
       "    }\n",
       "\n",
       "    .dataframe tbody tr th {\n",
       "        vertical-align: top;\n",
       "    }\n",
       "\n",
       "    .dataframe thead th {\n",
       "        text-align: right;\n",
       "    }\n",
       "</style>\n",
       "<table border=\"1\" class=\"dataframe\">\n",
       "  <thead>\n",
       "    <tr style=\"text-align: right;\">\n",
       "      <th></th>\n",
       "      <th>ID</th>\n",
       "      <th>var3</th>\n",
       "      <th>var15</th>\n",
       "      <th>imp_ent_var16_ult1</th>\n",
       "      <th>imp_op_var39_comer_ult1</th>\n",
       "      <th>imp_op_var39_comer_ult3</th>\n",
       "      <th>imp_op_var40_comer_ult1</th>\n",
       "      <th>imp_op_var40_comer_ult3</th>\n",
       "      <th>imp_op_var40_efect_ult1</th>\n",
       "      <th>imp_op_var40_efect_ult3</th>\n",
       "      <th>...</th>\n",
       "      <th>saldo_medio_var33_hace2</th>\n",
       "      <th>saldo_medio_var33_hace3</th>\n",
       "      <th>saldo_medio_var33_ult1</th>\n",
       "      <th>saldo_medio_var33_ult3</th>\n",
       "      <th>saldo_medio_var44_hace2</th>\n",
       "      <th>saldo_medio_var44_hace3</th>\n",
       "      <th>saldo_medio_var44_ult1</th>\n",
       "      <th>saldo_medio_var44_ult3</th>\n",
       "      <th>var38</th>\n",
       "      <th>TARGET</th>\n",
       "    </tr>\n",
       "  </thead>\n",
       "  <tbody>\n",
       "    <tr>\n",
       "      <th>0</th>\n",
       "      <td>1</td>\n",
       "      <td>2</td>\n",
       "      <td>23</td>\n",
       "      <td>0.0</td>\n",
       "      <td>0.0</td>\n",
       "      <td>0.0</td>\n",
       "      <td>0.0</td>\n",
       "      <td>0.0</td>\n",
       "      <td>0.0</td>\n",
       "      <td>0.0</td>\n",
       "      <td>...</td>\n",
       "      <td>0.0</td>\n",
       "      <td>0.0</td>\n",
       "      <td>0.0</td>\n",
       "      <td>0.0</td>\n",
       "      <td>0.0</td>\n",
       "      <td>0.0</td>\n",
       "      <td>0.0</td>\n",
       "      <td>0.0</td>\n",
       "      <td>39205.170000</td>\n",
       "      <td>0</td>\n",
       "    </tr>\n",
       "    <tr>\n",
       "      <th>1</th>\n",
       "      <td>3</td>\n",
       "      <td>2</td>\n",
       "      <td>34</td>\n",
       "      <td>0.0</td>\n",
       "      <td>0.0</td>\n",
       "      <td>0.0</td>\n",
       "      <td>0.0</td>\n",
       "      <td>0.0</td>\n",
       "      <td>0.0</td>\n",
       "      <td>0.0</td>\n",
       "      <td>...</td>\n",
       "      <td>0.0</td>\n",
       "      <td>0.0</td>\n",
       "      <td>0.0</td>\n",
       "      <td>0.0</td>\n",
       "      <td>0.0</td>\n",
       "      <td>0.0</td>\n",
       "      <td>0.0</td>\n",
       "      <td>0.0</td>\n",
       "      <td>49278.030000</td>\n",
       "      <td>0</td>\n",
       "    </tr>\n",
       "    <tr>\n",
       "      <th>2</th>\n",
       "      <td>4</td>\n",
       "      <td>2</td>\n",
       "      <td>23</td>\n",
       "      <td>0.0</td>\n",
       "      <td>0.0</td>\n",
       "      <td>0.0</td>\n",
       "      <td>0.0</td>\n",
       "      <td>0.0</td>\n",
       "      <td>0.0</td>\n",
       "      <td>0.0</td>\n",
       "      <td>...</td>\n",
       "      <td>0.0</td>\n",
       "      <td>0.0</td>\n",
       "      <td>0.0</td>\n",
       "      <td>0.0</td>\n",
       "      <td>0.0</td>\n",
       "      <td>0.0</td>\n",
       "      <td>0.0</td>\n",
       "      <td>0.0</td>\n",
       "      <td>67333.770000</td>\n",
       "      <td>0</td>\n",
       "    </tr>\n",
       "    <tr>\n",
       "      <th>3</th>\n",
       "      <td>8</td>\n",
       "      <td>2</td>\n",
       "      <td>37</td>\n",
       "      <td>0.0</td>\n",
       "      <td>195.0</td>\n",
       "      <td>195.0</td>\n",
       "      <td>0.0</td>\n",
       "      <td>0.0</td>\n",
       "      <td>0.0</td>\n",
       "      <td>0.0</td>\n",
       "      <td>...</td>\n",
       "      <td>0.0</td>\n",
       "      <td>0.0</td>\n",
       "      <td>0.0</td>\n",
       "      <td>0.0</td>\n",
       "      <td>0.0</td>\n",
       "      <td>0.0</td>\n",
       "      <td>0.0</td>\n",
       "      <td>0.0</td>\n",
       "      <td>64007.970000</td>\n",
       "      <td>0</td>\n",
       "    </tr>\n",
       "    <tr>\n",
       "      <th>4</th>\n",
       "      <td>10</td>\n",
       "      <td>2</td>\n",
       "      <td>39</td>\n",
       "      <td>0.0</td>\n",
       "      <td>0.0</td>\n",
       "      <td>0.0</td>\n",
       "      <td>0.0</td>\n",
       "      <td>0.0</td>\n",
       "      <td>0.0</td>\n",
       "      <td>0.0</td>\n",
       "      <td>...</td>\n",
       "      <td>0.0</td>\n",
       "      <td>0.0</td>\n",
       "      <td>0.0</td>\n",
       "      <td>0.0</td>\n",
       "      <td>0.0</td>\n",
       "      <td>0.0</td>\n",
       "      <td>0.0</td>\n",
       "      <td>0.0</td>\n",
       "      <td>117310.979016</td>\n",
       "      <td>0</td>\n",
       "    </tr>\n",
       "  </tbody>\n",
       "</table>\n",
       "<p>5 rows × 371 columns</p>\n",
       "</div>"
      ],
      "text/plain": [
       "   ID  var3  var15  imp_ent_var16_ult1  imp_op_var39_comer_ult1  \\\n",
       "0   1     2     23                 0.0                      0.0   \n",
       "1   3     2     34                 0.0                      0.0   \n",
       "2   4     2     23                 0.0                      0.0   \n",
       "3   8     2     37                 0.0                    195.0   \n",
       "4  10     2     39                 0.0                      0.0   \n",
       "\n",
       "   imp_op_var39_comer_ult3  imp_op_var40_comer_ult1  imp_op_var40_comer_ult3  \\\n",
       "0                      0.0                      0.0                      0.0   \n",
       "1                      0.0                      0.0                      0.0   \n",
       "2                      0.0                      0.0                      0.0   \n",
       "3                    195.0                      0.0                      0.0   \n",
       "4                      0.0                      0.0                      0.0   \n",
       "\n",
       "   imp_op_var40_efect_ult1  imp_op_var40_efect_ult3  ...  \\\n",
       "0                      0.0                      0.0  ...   \n",
       "1                      0.0                      0.0  ...   \n",
       "2                      0.0                      0.0  ...   \n",
       "3                      0.0                      0.0  ...   \n",
       "4                      0.0                      0.0  ...   \n",
       "\n",
       "   saldo_medio_var33_hace2  saldo_medio_var33_hace3  saldo_medio_var33_ult1  \\\n",
       "0                      0.0                      0.0                     0.0   \n",
       "1                      0.0                      0.0                     0.0   \n",
       "2                      0.0                      0.0                     0.0   \n",
       "3                      0.0                      0.0                     0.0   \n",
       "4                      0.0                      0.0                     0.0   \n",
       "\n",
       "   saldo_medio_var33_ult3  saldo_medio_var44_hace2  saldo_medio_var44_hace3  \\\n",
       "0                     0.0                      0.0                      0.0   \n",
       "1                     0.0                      0.0                      0.0   \n",
       "2                     0.0                      0.0                      0.0   \n",
       "3                     0.0                      0.0                      0.0   \n",
       "4                     0.0                      0.0                      0.0   \n",
       "\n",
       "   saldo_medio_var44_ult1  saldo_medio_var44_ult3          var38  TARGET  \n",
       "0                     0.0                     0.0   39205.170000       0  \n",
       "1                     0.0                     0.0   49278.030000       0  \n",
       "2                     0.0                     0.0   67333.770000       0  \n",
       "3                     0.0                     0.0   64007.970000       0  \n",
       "4                     0.0                     0.0  117310.979016       0  \n",
       "\n",
       "[5 rows x 371 columns]"
      ]
     },
     "execution_count": 5,
     "metadata": {},
     "output_type": "execute_result"
    }
   ],
   "source": [
    "train.head()"
   ]
  },
  {
   "cell_type": "code",
   "execution_count": 6,
   "metadata": {},
   "outputs": [],
   "source": [
    "train.drop('ID', axis=1, inplace=True)"
   ]
  },
  {
   "cell_type": "code",
   "execution_count": 7,
   "metadata": {},
   "outputs": [
    {
     "name": "stderr",
     "output_type": "stream",
     "text": [
      "c:\\users\\despik\\appdata\\local\\programs\\python\\python38\\lib\\site-packages\\sklearn\\utils\\validation.py:68: FutureWarning: Pass classes=[0 1], y=0        0\n",
      "1        0\n",
      "2        0\n",
      "3        0\n",
      "4        0\n",
      "        ..\n",
      "76015    0\n",
      "76016    0\n",
      "76017    0\n",
      "76018    0\n",
      "76019    0\n",
      "Name: TARGET, Length: 76020, dtype: int64 as keyword args. From version 0.25 passing these as positional arguments will result in an error\n",
      "  warnings.warn(\"Pass {} as keyword args. From version 0.25 \"\n"
     ]
    }
   ],
   "source": [
    "from sklearn.utils import class_weight\n",
    "cw = list(class_weight.compute_class_weight('balanced',\n",
    "                                             np.unique(train['TARGET']),\n",
    "                                             train['TARGET']))"
   ]
  },
  {
   "cell_type": "code",
   "execution_count": 8,
   "metadata": {},
   "outputs": [
    {
     "data": {
      "text/plain": [
       "[0.5205993535309265, 12.636303191489361]"
      ]
     },
     "execution_count": 8,
     "metadata": {},
     "output_type": "execute_result"
    }
   ],
   "source": [
    "cw"
   ]
  },
  {
   "cell_type": "code",
   "execution_count": 9,
   "metadata": {},
   "outputs": [],
   "source": [
    "X_train, X_test, y_train, y_test = train_test_split(train.drop('TARGET', axis=1), \n",
    "                                                    train['TARGET'], \n",
    "                                                    test_size=0.3,\n",
    "                                                    stratify=train['TARGET'],\n",
    "                                                    random_state=42)"
   ]
  },
  {
   "cell_type": "code",
   "execution_count": 10,
   "metadata": {},
   "outputs": [
    {
     "data": {
      "text/plain": [
       "34"
      ]
     },
     "execution_count": 10,
     "metadata": {},
     "output_type": "execute_result"
    }
   ],
   "source": [
    "constant_features = [\n",
    "    features for features in train.columns if train[features].std() == 0\n",
    "]\n",
    "len(constant_features)"
   ]
  },
  {
   "cell_type": "code",
   "execution_count": 11,
   "metadata": {},
   "outputs": [],
   "source": [
    "train.drop(labels = constant_features, axis = 1, inplace=True)\n",
    "#X_test.drop(labels = constant_features, axis = 1, inplace = True)"
   ]
  },
  {
   "cell_type": "code",
   "execution_count": 12,
   "metadata": {},
   "outputs": [],
   "source": [
    "test.drop(labels = constant_features, axis = 1, inplace = True)"
   ]
  },
  {
   "cell_type": "code",
   "execution_count": 13,
   "metadata": {},
   "outputs": [
    {
     "data": {
      "text/plain": [
       "187"
      ]
     },
     "execution_count": 13,
     "metadata": {},
     "output_type": "execute_result"
    }
   ],
   "source": [
    "quasi_constant_feat = []\n",
    "for feature in train.columns:\n",
    "    predominant = (train[feature].value_counts() / np.float(\n",
    "        len(train))).sort_values(ascending=False).values[0]\n",
    "    if predominant > 0.99:\n",
    "        quasi_constant_feat.append(feature)\n",
    "len(quasi_constant_feat)"
   ]
  },
  {
   "cell_type": "code",
   "execution_count": 14,
   "metadata": {},
   "outputs": [],
   "source": [
    "train.drop(labels = quasi_constant_feat, axis = 1, inplace=True)\n",
    "#X_test.drop(labels = quasi_constant_feat, axis = 1, inplace = True)"
   ]
  },
  {
   "cell_type": "code",
   "execution_count": 15,
   "metadata": {},
   "outputs": [],
   "source": [
    "test.drop(labels = quasi_constant_feat, axis = 1, inplace = True)"
   ]
  },
  {
   "cell_type": "code",
   "execution_count": 16,
   "metadata": {},
   "outputs": [
    {
     "data": {
      "text/plain": [
       "(76020, 149)"
      ]
     },
     "execution_count": 16,
     "metadata": {},
     "output_type": "execute_result"
    }
   ],
   "source": [
    "train.shape"
   ]
  },
  {
   "cell_type": "code",
   "execution_count": 17,
   "metadata": {},
   "outputs": [
    {
     "data": {
      "text/plain": [
       "(22806, 369)"
      ]
     },
     "execution_count": 17,
     "metadata": {},
     "output_type": "execute_result"
    }
   ],
   "source": [
    "X_test.shape"
   ]
  },
  {
   "cell_type": "code",
   "execution_count": 18,
   "metadata": {},
   "outputs": [],
   "source": [
    "from tqdm.notebook import trange, tqdm"
   ]
  },
  {
   "cell_type": "code",
   "execution_count": 17,
   "metadata": {},
   "outputs": [],
   "source": [
    "#duplicated_feat = []\n",
    "#for i in trange(1000):\n",
    "#    for i in range(0, len(X_test.columns)):\n",
    "#        col_1 = X_test.columns[i]\n",
    "#        for col_2 in X_test.columns[i + 1:]:\n",
    "#            if X_test[col_1].equals(X_test[col_2]):\n",
    "#                duplicated_feat.append(col_2)\n",
    "#duplicated_features = set(duplicated_feat)\n",
    "#print(len(duplicated_features))"
   ]
  },
  {
   "cell_type": "code",
   "execution_count": 19,
   "metadata": {},
   "outputs": [],
   "source": [
    "duplicated_features = ['ind_var25',\n",
    " 'ind_var26',\n",
    " 'ind_var37',\n",
    " 'num_var25',\n",
    " 'num_var26',\n",
    " 'num_var37',]"
   ]
  },
  {
   "cell_type": "code",
   "execution_count": 174,
   "metadata": {},
   "outputs": [],
   "source": [
    "train.drop(labels = duplicated_features, axis = 1, inplace=True)\n",
    "#X_test.drop(labels = duplicated_features, axis = 1, inplace = True)"
   ]
  },
  {
   "cell_type": "code",
   "execution_count": 175,
   "metadata": {},
   "outputs": [],
   "source": [
    "test.drop(labels = duplicated_features, axis = 1, inplace = True)"
   ]
  },
  {
   "cell_type": "code",
   "execution_count": 177,
   "metadata": {},
   "outputs": [],
   "source": [
    "pd.set_option('max_columns', 150)\n",
    "corr = train.corr()"
   ]
  },
  {
   "cell_type": "code",
   "execution_count": 178,
   "metadata": {},
   "outputs": [
    {
     "name": "stdout",
     "output_type": "stream",
     "text": [
      "var3 2.278584816178606\n",
      "var15 20.693979258083743\n",
      "imp_ent_var16_ult1 5.149461685172512\n",
      "imp_op_var39_comer_ult1 28.45194467580817\n",
      "imp_op_var39_comer_ult3 28.683736818746517\n",
      "imp_op_var41_comer_ult1 28.104829766561856\n",
      "imp_op_var41_comer_ult3 28.604220750059056\n",
      "imp_op_var41_efect_ult1 20.548944453991123\n",
      "imp_op_var41_efect_ult3 19.27870075681388\n",
      "imp_op_var41_ult1 28.674868069686326\n",
      "imp_op_var39_efect_ult1 20.579288589543857\n",
      "imp_op_var39_efect_ult3 19.3546818881837\n",
      "imp_op_var39_ult1 28.973693175970006\n",
      "ind_var1_0 18.37261544561081\n",
      "ind_var5_0 24.120773133665555\n",
      "ind_var5 15.837446089732946\n",
      "ind_var8_0 25.954811624222806\n",
      "ind_var8 27.35898124514339\n",
      "ind_var12_0 25.60280294283396\n",
      "ind_var12 22.45598523139043\n",
      "ind_var13_0 23.48666425160436\n",
      "ind_var13_corto_0 22.27998829843688\n",
      "ind_var13_corto 21.888565771826393\n",
      "ind_var13_largo_0 8.595711977739146\n",
      "ind_var13 23.14640639033239\n",
      "ind_var14_0 16.84917703340013\n",
      "ind_var24_0 20.860609560979803\n",
      "ind_var24 21.004613605390418\n",
      "ind_var25_cte 27.32031628275552\n",
      "ind_var26_0 26.841834250529672\n",
      "ind_var26_cte 27.503356334285122\n",
      "ind_var25_0 26.672875874595018\n",
      "ind_var30 21.102847736800022\n",
      "ind_var37_cte 24.37292077366136\n",
      "ind_var37_0 24.233467450465152\n",
      "ind_var39_0 13.837923946916494\n",
      "ind_var40_0 18.377240191502764\n",
      "ind_var41_0 13.635578052154521\n",
      "num_var1_0 18.375104026264754\n",
      "num_var4 40.81418685622218\n",
      "num_var5_0 22.298723845756236\n",
      "num_var5 15.904535052947068\n",
      "num_var8_0 25.951863271427133\n",
      "num_var8 27.358981245134437\n",
      "num_var12_0 23.87457764950115\n",
      "num_var12 22.561359937794506\n",
      "num_var13_0 22.98238816227648\n",
      "num_var13_corto_0 22.2102888273239\n",
      "num_var13_corto 21.886047028159943\n",
      "num_var13_largo_0 8.523084185321686\n",
      "num_var13 22.835147682299187\n",
      "num_var14_0 14.241793119404292\n",
      "num_var24_0 20.840063722536485\n",
      "num_var24 21.005973755162024\n",
      "num_var26_0 24.91280557999055\n",
      "num_var25_0 24.754082858638476\n",
      "num_op_var41_hace2 26.66364298533418\n",
      "num_op_var41_hace3 10.014622368134708\n",
      "num_op_var41_ult1 32.19535306707109\n",
      "num_op_var41_ult3 33.02199116819142\n",
      "num_op_var39_hace2 26.830048415425445\n",
      "num_op_var39_hace3 10.01453069402367\n",
      "num_op_var39_ult1 32.493103840788834\n",
      "num_op_var39_ult3 33.27940107275352\n",
      "num_var30_0 28.748040835170432\n",
      "num_var30 29.650941896499447\n",
      "num_var35 40.73988774562553\n",
      "num_var37_med_ult2 18.775744454248454\n",
      "num_var37_0 20.915175328411454\n",
      "num_var39_0 19.337442977187386\n",
      "num_var40_0 18.362250380319825\n",
      "num_var41_0 15.3502835667676\n",
      "num_var42_0 23.190037787720215\n",
      "num_var42 23.146278266948848\n",
      "saldo_var5 7.146101210626905\n",
      "saldo_var8 13.712189992768572\n",
      "saldo_var12 18.02141828971419\n",
      "saldo_var13_corto 19.621956139967885\n",
      "saldo_var13 20.412404483873644\n",
      "saldo_var24 17.909694492849404\n",
      "saldo_var26 21.71227998806701\n",
      "saldo_var25 21.450067528312456\n",
      "saldo_var30 26.853560925083997\n",
      "saldo_var37 9.610786639015593\n",
      "saldo_var42 19.001058780199088\n",
      "var36 23.844887791275\n",
      "delta_imp_aport_var13_1y3 8.68767697977903\n",
      "delta_num_aport_var13_1y3 8.687676979740619\n",
      "imp_aport_var13_hace3 14.646757740888184\n",
      "imp_var43_emit_ult1 10.127758939306876\n",
      "imp_trans_var37_ult1 11.10309948060851\n",
      "ind_var10_ult1 29.74222406746415\n",
      "ind_var10cte_ult1 30.148133202822365\n",
      "ind_var9_cte_ult1 30.834686494579984\n",
      "ind_var9_ult1 30.298828571803284\n",
      "ind_var43_emit_ult1 23.65632469414402\n",
      "ind_var43_recib_ult1 24.050230085161637\n",
      "var21 15.501030688995652\n",
      "num_aport_var13_hace3 15.003236702261148\n",
      "num_ent_var16_ult1 10.699218261392708\n",
      "num_var22_hace2 22.439093742178184\n",
      "num_var22_hace3 24.723644256888882\n",
      "num_var22_ult1 14.249538462155476\n",
      "num_var22_ult3 30.21607662789871\n",
      "num_med_var22_ult3 26.625618409325035\n",
      "num_med_var45_ult3 29.16416919722778\n",
      "num_meses_var5_ult3 14.66405623704803\n",
      "num_meses_var8_ult3 26.035493687175062\n",
      "num_meses_var12_ult3 21.288697034697044\n",
      "num_meses_var13_corto_ult3 21.625096929885355\n",
      "num_meses_var39_vig_ult3 12.725973947415795\n",
      "num_op_var39_comer_ult1 29.90030589751857\n",
      "num_op_var39_comer_ult3 29.918036242632837\n",
      "num_op_var41_comer_ult1 29.63777409672857\n",
      "num_op_var41_comer_ult3 30.156685203743706\n",
      "num_op_var41_efect_ult1 26.6944837998038\n",
      "num_op_var41_efect_ult3 27.87565902891744\n",
      "num_op_var39_efect_ult1 26.74241153971706\n",
      "num_op_var39_efect_ult3 27.9398606301485\n",
      "num_var43_emit_ult1 21.01315948398704\n",
      "num_var43_recib_ult1 19.733738773342196\n",
      "num_trasp_var11_ult1 16.53822198273164\n",
      "num_var45_hace2 26.872496673799482\n",
      "num_var45_hace3 24.021783522171738\n",
      "num_var45_ult1 24.61943851137376\n",
      "num_var45_ult3 29.853696454295076\n",
      "saldo_medio_var5_hace2 13.378579488176841\n",
      "saldo_medio_var5_hace3 12.151117921609544\n",
      "saldo_medio_var5_ult1 9.596475439434105\n",
      "saldo_medio_var5_ult3 13.251418691653422\n",
      "saldo_medio_var8_hace2 10.89431292297351\n",
      "saldo_medio_var8_ult1 14.099452677350534\n",
      "saldo_medio_var8_ult3 14.149852741188802\n",
      "saldo_medio_var12_hace2 15.479474803126045\n",
      "saldo_medio_var12_hace3 9.716792430690251\n",
      "saldo_medio_var12_ult1 17.621234501318465\n",
      "saldo_medio_var12_ult3 17.664355713187486\n",
      "saldo_medio_var13_corto_hace2 18.16424668486063\n",
      "saldo_medio_var13_corto_hace3 11.657164968828148\n",
      "saldo_medio_var13_corto_ult1 19.44947302710407\n",
      "saldo_medio_var13_corto_ult3 19.31188844816529\n",
      "var38 2.39357620338398\n",
      "TARGET 4.518775869784292\n"
     ]
    }
   ],
   "source": [
    "for col in corr.columns:\n",
    "    print(col, np.abs(corr[col]).sum(axis=0))"
   ]
  },
  {
   "cell_type": "code",
   "execution_count": 24,
   "metadata": {},
   "outputs": [],
   "source": [
    "from sklearn.feature_selection import f_classif\n",
    "from sklearn.feature_selection import SelectKBest, SelectPercentile"
   ]
  },
  {
   "cell_type": "code",
   "execution_count": 179,
   "metadata": {},
   "outputs": [],
   "source": [
    "univariate = f_classif(train.drop('TARGET', axis=1), train['TARGET'])"
   ]
  },
  {
   "cell_type": "code",
   "execution_count": 180,
   "metadata": {},
   "outputs": [],
   "source": [
    "univariate = pd.Series(univariate[1])\n",
    "univariate.index = train.drop('TARGET', axis=1).columns\n",
    "univariate.sort_values(ascending=False, inplace=True)"
   ]
  },
  {
   "cell_type": "code",
   "execution_count": 181,
   "metadata": {},
   "outputs": [
    {
     "data": {
      "text/plain": [
       "<matplotlib.axes._subplots.AxesSubplot at 0x1a70aa9a850>"
      ]
     },
     "execution_count": 181,
     "metadata": {},
     "output_type": "execute_result"
    },
    {
     "data": {
      "image/png": "[encoded data removed]",
      "text/plain": [
       "<Figure size 1440x576 with 1 Axes>"
      ]
     },
     "metadata": {
      "needs_background": "light"
     },
     "output_type": "display_data"
    }
   ],
   "source": [
    "univariate.sort_values(ascending=False).plot.bar(figsize=(20, 8))"
   ]
  },
  {
   "cell_type": "code",
   "execution_count": 183,
   "metadata": {},
   "outputs": [],
   "source": [
    "sel_ = SelectKBest(f_classif, k=35).fit(train.drop('TARGET', axis=1), train['TARGET'])\n",
    "need_columns = train.drop('TARGET', axis=1).columns[sel_.get_support()]"
   ]
  },
  {
   "cell_type": "code",
   "execution_count": 184,
   "metadata": {},
   "outputs": [
    {
     "data": {
      "text/plain": [
       "Index(['var15', 'imp_op_var39_efect_ult1', 'ind_var5_0', 'ind_var5',\n",
       "       'ind_var8_0', 'ind_var12_0', 'ind_var12', 'ind_var13_0',\n",
       "       'ind_var13_corto_0', 'ind_var13_corto', 'ind_var13', 'ind_var24_0',\n",
       "       'ind_var24', 'ind_var30', 'ind_var39_0', 'ind_var41_0', 'num_var4',\n",
       "       'num_var5', 'num_var8_0', 'num_var12', 'num_var13_0',\n",
       "       'num_var13_corto_0', 'num_var13_corto', 'num_var13', 'num_var24',\n",
       "       'num_var30_0', 'num_var30', 'num_var35', 'num_var41_0', 'num_var42',\n",
       "       'saldo_var30', 'var36', 'num_meses_var5_ult3', 'num_meses_var12_ult3',\n",
       "       'num_meses_var13_corto_ult3'],\n",
       "      dtype='object')"
      ]
     },
     "execution_count": 184,
     "metadata": {},
     "output_type": "execute_result"
    }
   ],
   "source": [
    "need_columns"
   ]
  },
  {
   "cell_type": "code",
   "execution_count": 185,
   "metadata": {},
   "outputs": [],
   "source": [
    "need_columns = ['var15', 'imp_op_var39_efect_ult1', 'ind_var5_0', 'ind_var5',\n",
    "       'ind_var8_0', 'ind_var12_0', 'ind_var12', 'ind_var13_0',\n",
    "       'ind_var13_corto_0', 'ind_var13_corto', 'ind_var13', 'ind_var24_0',\n",
    "       'ind_var24', 'ind_var30', 'ind_var39_0', 'ind_var41_0', 'num_var4',\n",
    "       'num_var5', 'num_var8_0', 'num_var12', 'num_var13_0',\n",
    "       'num_var13_corto_0', 'num_var13_corto', 'num_var13', 'num_var24',\n",
    "       'num_var30_0', 'num_var30', 'num_var35', 'num_var41_0', 'num_var42',\n",
    "       'saldo_var30', 'var36', 'num_meses_var5_ult3', 'num_meses_var12_ult3',\n",
    "       'num_meses_var13_corto_ult3']"
   ]
  },
  {
   "cell_type": "code",
   "execution_count": 128,
   "metadata": {},
   "outputs": [],
   "source": [
    "from catboost import CatBoostClassifier\n",
    "import optuna\n",
    "from optuna.samplers import RandomSampler\n",
    "from optuna.integration import OptunaSearchCV\n",
    "from optuna.distributions import IntUniformDistribution, UniformDistribution"
   ]
  },
  {
   "cell_type": "code",
   "execution_count": 129,
   "metadata": {},
   "outputs": [
    {
     "name": "stdout",
     "output_type": "stream",
     "text": [
      "Collecting imblearn\n",
      "  Downloading imblearn-0.0-py2.py3-none-any.whl (1.9 kB)\n",
      "Collecting imbalanced-learn\n",
      "  Downloading imbalanced_learn-0.7.0-py3-none-any.whl (167 kB)\n",
      "Requirement already satisfied: numpy>=1.13.3 in c:\\users\\despik\\appdata\\local\\programs\\python\\python38\\lib\\site-packages (from imbalanced-learn->imblearn) (1.18.5)\n",
      "Requirement already satisfied: scikit-learn>=0.23 in c:\\users\\despik\\appdata\\local\\programs\\python\\python38\\lib\\site-packages (from imbalanced-learn->imblearn) (0.23.1)\n",
      "Requirement already satisfied: scipy>=0.19.1 in c:\\users\\despik\\appdata\\local\\programs\\python\\python38\\lib\\site-packages (from imbalanced-learn->imblearn) (1.4.1)\n",
      "Requirement already satisfied: joblib>=0.11 in c:\\users\\despik\\appdata\\local\\programs\\python\\python38\\lib\\site-packages (from imbalanced-learn->imblearn) (0.15.1)\n",
      "Requirement already satisfied: threadpoolctl>=2.0.0 in c:\\users\\despik\\appdata\\local\\programs\\python\\python38\\lib\\site-packages (from scikit-learn>=0.23->imbalanced-learn->imblearn) (2.1.0)\n",
      "Installing collected packages: imbalanced-learn, imblearn\n",
      "Successfully installed imbalanced-learn-0.7.0 imblearn-0.0\n"
     ]
    }
   ],
   "source": [
    "!pip install imblearn"
   ]
  },
  {
   "cell_type": "code",
   "execution_count": 188,
   "metadata": {},
   "outputs": [],
   "source": [
    "from imblearn.under_sampling import RandomUnderSampler\n",
    "rus = RandomUnderSampler(random_state=42)\n",
    "X_train = train[need_columns]\n",
    "y_train = train['TARGET']\n",
    "X_resampled, y_resampled = rus.fit_resample(X_train, y_train)"
   ]
  },
  {
   "cell_type": "code",
   "execution_count": 189,
   "metadata": {},
   "outputs": [
    {
     "data": {
      "text/plain": [
       "(6016, 35)"
      ]
     },
     "execution_count": 189,
     "metadata": {},
     "output_type": "execute_result"
    }
   ],
   "source": [
    "X_resampled.shape"
   ]
  },
  {
   "cell_type": "code",
   "execution_count": 192,
   "metadata": {},
   "outputs": [],
   "source": [
    "X_train, X_test, y_train, y_test = train_test_split(X_resampled,\n",
    "                                                        y_resampled, \n",
    "                                                        shuffle=True,\n",
    "                                                        random_state=42,\n",
    "                                                        test_size=0.2,\n",
    "                                                        stratify=y_resampled\n",
    "    )"
   ]
  },
  {
   "cell_type": "code",
   "execution_count": 194,
   "metadata": {},
   "outputs": [],
   "source": [
    "cb_model = CatBoostClassifier(iterations=1000,\n",
    "                              learning_rate=0.01,\n",
    "                              depth = 4,\n",
    "                              subsample = 0.75,\n",
    "                              border_count =128,\n",
    "                              l2_leaf_reg = 3,\n",
    "                              eval_metric='AUC',\n",
    "                              verbose=10,\n",
    "                              random_seed = 42\n",
    "                             )"
   ]
  },
  {
   "cell_type": "code",
   "execution_count": 195,
   "metadata": {},
   "outputs": [
    {
     "name": "stdout",
     "output_type": "stream",
     "text": [
      "0:\ttest: 0.8012550\tbest: 0.8012550 (0)\ttotal: 3.34ms\tremaining: 3.34s\n",
      "10:\ttest: 0.8306614\tbest: 0.8310932 (6)\ttotal: 52.1ms\tremaining: 4.68s\n",
      "20:\ttest: 0.8293120\tbest: 0.8326136 (14)\ttotal: 91.7ms\tremaining: 4.28s\n",
      "30:\ttest: 0.8283256\tbest: 0.8326136 (14)\ttotal: 129ms\tremaining: 4.04s\n",
      "40:\ttest: 0.8337104\tbest: 0.8342320 (38)\ttotal: 159ms\tremaining: 3.73s\n",
      "50:\ttest: 0.8354281\tbest: 0.8354281 (50)\ttotal: 188ms\tremaining: 3.5s\n",
      "60:\ttest: 0.8348625\tbest: 0.8359428 (56)\ttotal: 215ms\tremaining: 3.3s\n",
      "70:\ttest: 0.8361359\tbest: 0.8361359 (70)\ttotal: 261ms\tremaining: 3.41s\n",
      "80:\ttest: 0.8362973\tbest: 0.8362973 (80)\ttotal: 301ms\tremaining: 3.42s\n",
      "90:\ttest: 0.8362697\tbest: 0.8364187 (87)\ttotal: 337ms\tremaining: 3.36s\n",
      "100:\ttest: 0.8372038\tbest: 0.8372341 (99)\ttotal: 372ms\tremaining: 3.31s\n",
      "110:\ttest: 0.8370851\tbest: 0.8372341 (99)\ttotal: 410ms\tremaining: 3.29s\n",
      "120:\ttest: 0.8378260\tbest: 0.8378260 (120)\ttotal: 446ms\tremaining: 3.24s\n",
      "130:\ttest: 0.8380854\tbest: 0.8382040 (125)\ttotal: 483ms\tremaining: 3.2s\n",
      "140:\ttest: 0.8383917\tbest: 0.8383917 (140)\ttotal: 510ms\tremaining: 3.11s\n",
      "150:\ttest: 0.8386097\tbest: 0.8386511 (148)\ttotal: 537ms\tremaining: 3.02s\n",
      "160:\ttest: 0.8390953\tbest: 0.8390953 (160)\ttotal: 564ms\tremaining: 2.94s\n",
      "170:\ttest: 0.8393795\tbest: 0.8393795 (170)\ttotal: 604ms\tremaining: 2.93s\n",
      "180:\ttest: 0.8397424\tbest: 0.8397424 (180)\ttotal: 641ms\tremaining: 2.9s\n",
      "190:\ttest: 0.8401590\tbest: 0.8401590 (190)\ttotal: 677ms\tremaining: 2.87s\n",
      "200:\ttest: 0.8407468\tbest: 0.8407468 (200)\ttotal: 709ms\tremaining: 2.82s\n",
      "210:\ttest: 0.8406916\tbest: 0.8407523 (207)\ttotal: 740ms\tremaining: 2.77s\n",
      "220:\ttest: 0.8411469\tbest: 0.8411469 (220)\ttotal: 771ms\tremaining: 2.72s\n",
      "230:\ttest: 0.8415732\tbest: 0.8415732 (230)\ttotal: 797ms\tremaining: 2.65s\n",
      "240:\ttest: 0.8416367\tbest: 0.8418354 (236)\ttotal: 848ms\tremaining: 2.67s\n",
      "250:\ttest: 0.8417526\tbest: 0.8418354 (236)\ttotal: 898ms\tremaining: 2.68s\n",
      "260:\ttest: 0.8420644\tbest: 0.8420644 (260)\ttotal: 974ms\tremaining: 2.76s\n",
      "270:\ttest: 0.8415594\tbest: 0.8420644 (260)\ttotal: 1.02s\tremaining: 2.75s\n",
      "280:\ttest: 0.8416698\tbest: 0.8420644 (260)\ttotal: 1.07s\tremaining: 2.75s\n",
      "290:\ttest: 0.8416560\tbest: 0.8420644 (260)\ttotal: 1.12s\tremaining: 2.72s\n",
      "300:\ttest: 0.8419319\tbest: 0.8420644 (260)\ttotal: 1.16s\tremaining: 2.69s\n",
      "310:\ttest: 0.8420754\tbest: 0.8421196 (309)\ttotal: 1.2s\tremaining: 2.66s\n",
      "320:\ttest: 0.8421527\tbest: 0.8426300 (314)\ttotal: 1.23s\tremaining: 2.61s\n",
      "330:\ttest: 0.8424893\tbest: 0.8426300 (314)\ttotal: 1.26s\tremaining: 2.55s\n",
      "340:\ttest: 0.8424755\tbest: 0.8426300 (314)\ttotal: 1.3s\tremaining: 2.52s\n",
      "350:\ttest: 0.8423872\tbest: 0.8426300 (314)\ttotal: 1.34s\tremaining: 2.48s\n",
      "360:\ttest: 0.8422410\tbest: 0.8426300 (314)\ttotal: 1.38s\tremaining: 2.45s\n",
      "370:\ttest: 0.8424328\tbest: 0.8426300 (314)\ttotal: 1.42s\tremaining: 2.4s\n",
      "380:\ttest: 0.8425252\tbest: 0.8426300 (314)\ttotal: 1.45s\tremaining: 2.35s\n",
      "390:\ttest: 0.8426908\tbest: 0.8427101 (389)\ttotal: 1.47s\tremaining: 2.29s\n",
      "400:\ttest: 0.8425183\tbest: 0.8427101 (389)\ttotal: 1.52s\tremaining: 2.27s\n",
      "410:\ttest: 0.8425735\tbest: 0.8427101 (389)\ttotal: 1.55s\tremaining: 2.22s\n",
      "420:\ttest: 0.8424631\tbest: 0.8427101 (389)\ttotal: 1.58s\tremaining: 2.17s\n",
      "430:\ttest: 0.8425142\tbest: 0.8427101 (389)\ttotal: 1.61s\tremaining: 2.12s\n",
      "440:\ttest: 0.8423720\tbest: 0.8427101 (389)\ttotal: 1.66s\tremaining: 2.1s\n",
      "450:\ttest: 0.8425514\tbest: 0.8427101 (389)\ttotal: 1.7s\tremaining: 2.07s\n",
      "460:\ttest: 0.8425404\tbest: 0.8427101 (389)\ttotal: 1.75s\tremaining: 2.04s\n",
      "470:\ttest: 0.8426314\tbest: 0.8427101 (389)\ttotal: 1.79s\tremaining: 2.01s\n",
      "480:\ttest: 0.8425362\tbest: 0.8427101 (389)\ttotal: 1.82s\tremaining: 1.96s\n",
      "490:\ttest: 0.8426107\tbest: 0.8427101 (389)\ttotal: 1.85s\tremaining: 1.92s\n",
      "500:\ttest: 0.8424893\tbest: 0.8427101 (389)\ttotal: 1.88s\tremaining: 1.87s\n",
      "510:\ttest: 0.8426273\tbest: 0.8427101 (389)\ttotal: 1.92s\tremaining: 1.84s\n",
      "520:\ttest: 0.8426880\tbest: 0.8427211 (517)\ttotal: 1.97s\tremaining: 1.81s\n",
      "530:\ttest: 0.8427708\tbest: 0.8427791 (528)\ttotal: 2.02s\tremaining: 1.78s\n",
      "540:\ttest: 0.8427846\tbest: 0.8427846 (540)\ttotal: 2.07s\tremaining: 1.76s\n",
      "550:\ttest: 0.8428453\tbest: 0.8429281 (547)\ttotal: 2.11s\tremaining: 1.72s\n",
      "560:\ttest: 0.8427901\tbest: 0.8429281 (547)\ttotal: 2.14s\tremaining: 1.68s\n",
      "570:\ttest: 0.8428867\tbest: 0.8429281 (547)\ttotal: 2.17s\tremaining: 1.63s\n",
      "580:\ttest: 0.8427804\tbest: 0.8429281 (547)\ttotal: 2.2s\tremaining: 1.58s\n",
      "590:\ttest: 0.8429294\tbest: 0.8429294 (590)\ttotal: 2.25s\tremaining: 1.56s\n",
      "600:\ttest: 0.8430371\tbest: 0.8430564 (595)\ttotal: 2.29s\tremaining: 1.52s\n",
      "610:\ttest: 0.8431474\tbest: 0.8432357 (608)\ttotal: 2.32s\tremaining: 1.48s\n",
      "620:\ttest: 0.8432440\tbest: 0.8432440 (620)\ttotal: 2.35s\tremaining: 1.44s\n",
      "630:\ttest: 0.8433847\tbest: 0.8433847 (630)\ttotal: 2.38s\tremaining: 1.39s\n",
      "640:\ttest: 0.8435034\tbest: 0.8435034 (640)\ttotal: 2.41s\tremaining: 1.35s\n",
      "650:\ttest: 0.8434040\tbest: 0.8435337 (641)\ttotal: 2.45s\tremaining: 1.31s\n",
      "660:\ttest: 0.8434068\tbest: 0.8435337 (641)\ttotal: 2.48s\tremaining: 1.27s\n",
      "670:\ttest: 0.8433820\tbest: 0.8435337 (641)\ttotal: 2.52s\tremaining: 1.24s\n",
      "680:\ttest: 0.8433102\tbest: 0.8435337 (641)\ttotal: 2.56s\tremaining: 1.2s\n",
      "690:\ttest: 0.8434261\tbest: 0.8435337 (641)\ttotal: 2.59s\tremaining: 1.16s\n",
      "700:\ttest: 0.8432468\tbest: 0.8435337 (641)\ttotal: 2.63s\tremaining: 1.12s\n",
      "710:\ttest: 0.8434234\tbest: 0.8435337 (641)\ttotal: 2.68s\tremaining: 1.09s\n",
      "720:\ttest: 0.8434234\tbest: 0.8435337 (641)\ttotal: 2.72s\tremaining: 1.05s\n",
      "730:\ttest: 0.8433985\tbest: 0.8435337 (641)\ttotal: 2.75s\tremaining: 1.01s\n",
      "740:\ttest: 0.8433875\tbest: 0.8435337 (641)\ttotal: 2.79s\tremaining: 977ms\n",
      "750:\ttest: 0.8434082\tbest: 0.8435337 (641)\ttotal: 2.84s\tremaining: 941ms\n",
      "760:\ttest: 0.8434413\tbest: 0.8435337 (641)\ttotal: 2.88s\tremaining: 906ms\n",
      "770:\ttest: 0.8435020\tbest: 0.8436703 (762)\ttotal: 2.93s\tremaining: 869ms\n",
      "780:\ttest: 0.8437255\tbest: 0.8437255 (780)\ttotal: 2.96s\tremaining: 829ms\n",
      "790:\ttest: 0.8436234\tbest: 0.8437393 (782)\ttotal: 2.99s\tremaining: 791ms\n",
      "800:\ttest: 0.8435682\tbest: 0.8437393 (782)\ttotal: 3.02s\tremaining: 750ms\n",
      "810:\ttest: 0.8437697\tbest: 0.8438138 (807)\ttotal: 3.07s\tremaining: 716ms\n",
      "820:\ttest: 0.8437531\tbest: 0.8438138 (807)\ttotal: 3.12s\tremaining: 679ms\n",
      "830:\ttest: 0.8437172\tbest: 0.8438138 (807)\ttotal: 3.17s\tremaining: 644ms\n",
      "840:\ttest: 0.8438304\tbest: 0.8438800 (836)\ttotal: 3.2s\tremaining: 604ms\n",
      "850:\ttest: 0.8437945\tbest: 0.8438800 (836)\ttotal: 3.22s\tremaining: 565ms\n",
      "860:\ttest: 0.8436896\tbest: 0.8438800 (836)\ttotal: 3.25s\tremaining: 525ms\n",
      "870:\ttest: 0.8435958\tbest: 0.8438800 (836)\ttotal: 3.31s\tremaining: 490ms\n",
      "880:\ttest: 0.8435572\tbest: 0.8438800 (836)\ttotal: 3.36s\tremaining: 454ms\n",
      "890:\ttest: 0.8436124\tbest: 0.8438800 (836)\ttotal: 3.4s\tremaining: 416ms\n",
      "900:\ttest: 0.8436841\tbest: 0.8438800 (836)\ttotal: 3.44s\tremaining: 378ms\n",
      "910:\ttest: 0.8438317\tbest: 0.8438800 (836)\ttotal: 3.46s\tremaining: 338ms\n",
      "920:\ttest: 0.8434123\tbest: 0.8438800 (836)\ttotal: 3.49s\tremaining: 299ms\n",
      "930:\ttest: 0.8434841\tbest: 0.8438800 (836)\ttotal: 3.54s\tremaining: 263ms\n",
      "940:\ttest: 0.8434923\tbest: 0.8438800 (836)\ttotal: 3.6s\tremaining: 226ms\n",
      "950:\ttest: 0.8434316\tbest: 0.8438800 (836)\ttotal: 3.65s\tremaining: 188ms\n",
      "960:\ttest: 0.8435696\tbest: 0.8438800 (836)\ttotal: 3.69s\tremaining: 150ms\n",
      "970:\ttest: 0.8435751\tbest: 0.8438800 (836)\ttotal: 3.72s\tremaining: 111ms\n",
      "980:\ttest: 0.8433820\tbest: 0.8438800 (836)\ttotal: 3.75s\tremaining: 72.7ms\n",
      "990:\ttest: 0.8433709\tbest: 0.8438800 (836)\ttotal: 3.78s\tremaining: 34.3ms\n",
      "999:\ttest: 0.8433323\tbest: 0.8438800 (836)\ttotal: 3.83s\tremaining: 0us\n",
      "\n",
      "bestTest = 0.8438800344\n",
      "bestIteration = 836\n",
      "\n",
      "Shrink model to first 837 iterations.\n"
     ]
    },
    {
     "data": {
      "text/plain": [
       "<catboost.core.CatBoostClassifier at 0x1a71cea98b0>"
      ]
     },
     "execution_count": 195,
     "metadata": {},
     "output_type": "execute_result"
    }
   ],
   "source": [
    "cb_model.fit(\n",
    "   X_train[need_columns], y_train,\n",
    "   eval_set=(X_test[need_columns], y_test)\n",
    ")"
   ]
  },
  {
   "cell_type": "code",
   "execution_count": 60,
   "metadata": {},
   "outputs": [],
   "source": [
    "catboost = CatBoostClassifier(n_estimators=200,\n",
    "                              logging_level='Silent',\n",
    "                              random_state=42)\n"
   ]
  },
  {
   "cell_type": "code",
   "execution_count": 78,
   "metadata": {},
   "outputs": [],
   "source": [
    "catboost_param_grid = {\n",
    "    'learning_rate': [0.1, 0.05, 0.01]\n",
    "}"
   ]
  },
  {
   "cell_type": "code",
   "execution_count": 62,
   "metadata": {},
   "outputs": [],
   "source": [
    "from sklearn.model_selection import StratifiedKFold\n",
    "from sklearn.model_selection import GridSearchCV"
   ]
  },
  {
   "cell_type": "code",
   "execution_count": 79,
   "metadata": {},
   "outputs": [],
   "source": [
    "strat = StratifiedKFold(n_splits=5, shuffle=True, random_state=42)\n",
    "\n",
    "simple_search = GridSearchCV(catboost, \n",
    "                             catboost_param_grid, \n",
    "                             cv=strat,\n",
    "                             n_jobs=-1,\n",
    "                             scoring='roc_auc',\n",
    "                             return_train_score=False)"
   ]
  },
  {
   "cell_type": "code",
   "execution_count": 72,
   "metadata": {},
   "outputs": [],
   "source": [
    "from sklearn.metrics import roc_auc_score"
   ]
  },
  {
   "cell_type": "code",
   "execution_count": 80,
   "metadata": {},
   "outputs": [
    {
     "name": "stdout",
     "output_type": "stream",
     "text": [
      "Наилучшие значения гиперпараметров: {'learning_rate': 0.1}\n",
      "Наилучшее значение AUC: 0.834\n",
      "AUC на тестовой выборке: 0.843\n",
      "Wall time: 1min 37s\n"
     ]
    }
   ],
   "source": [
    "%%time\n",
    "\n",
    "simple_search.fit(X_train, y_train)\n",
    "\n",
    "print(\"Наилучшие значения гиперпараметров: {}\".format(\n",
    "    simple_search.best_params_))\n",
    "\n",
    "print(\"Наилучшее значение AUC: {:.3f}\".format(\n",
    "    np.abs(simple_search.best_score_)))\n",
    "\n",
    "print(\"AUC на тестовой выборке: {:.3f}\".format(\n",
    "    roc_auc_score(y_test, simple_search.predict_proba(X_test)[:, 1])))"
   ]
  },
  {
   "cell_type": "code",
   "execution_count": 81,
   "metadata": {},
   "outputs": [],
   "source": [
    "ctbst = CatBoostClassifier(n_estimators=200,\n",
    "                           learning_rate=0.1,\n",
    "                           logging_level='Silent',\n",
    "                           random_state=42,)\n"
   ]
  },
  {
   "cell_type": "code",
   "execution_count": 88,
   "metadata": {},
   "outputs": [
    {
     "name": "stderr",
     "output_type": "stream",
     "text": [
      "<ipython-input-88-9a7628dc1238>:8: ExperimentalWarning: OptunaSearchCV is experimental (supported from v0.17.0). The interface can change in the future.\n",
      "  optuna_search = OptunaSearchCV(\n"
     ]
    }
   ],
   "source": [
    "param_distributions = {'max_depth': IntUniformDistribution(3, 7),\n",
    "                       'l2_leaf_reg': UniformDistribution(3.0, 40.0),\n",
    "                       'random_strength': UniformDistribution(0.0, 5.0),\n",
    "                       'border_count': IntUniformDistribution(64, 254),\n",
    "                       'bagging_temperature': UniformDistribution(0.0, 5.0)}\n",
    "\n",
    "optuna_search = OptunaSearchCV(\n",
    "    ctbst,\n",
    "    param_distributions,\n",
    "    scoring='roc_auc',\n",
    "    random_state=42,\n",
    "    n_trials=10,\n",
    "    verbose=1,\n",
    "    cv=5)"
   ]
  },
  {
   "cell_type": "code",
   "execution_count": 89,
   "metadata": {},
   "outputs": [
    {
     "data": {
      "application/vnd.jupyter.widget-view+json": {
       "model_id": "71a565b7de5748238ce98e9f066953d5",
       "version_major": 2,
       "version_minor": 0
      },
      "text/plain": [
       "HBox(children=(FloatProgress(value=0.0, max=1000.0), HTML(value='')))"
      ]
     },
     "metadata": {},
     "output_type": "display_data"
    },
    {
     "name": "stderr",
     "output_type": "stream",
     "text": [
      "c:\\users\\despik\\appdata\\local\\programs\\python\\python38\\lib\\site-packages\\sklearn\\utils\\validation.py:68: FutureWarning: Pass classifier=True as keyword args. From version 0.25 passing these as positional arguments will result in an error\n",
      "  warnings.warn(\"Pass {} as keyword args. From version 0.25 \"\n",
      "[I 2020-08-06 01:52:56,900] Searching the best hyperparameters using 53214 samples...\n",
      "[I 2020-08-06 01:53:26,668] Trial 0 finished with value: 0.8350750605134175 and parameters: {'max_depth': 6, 'l2_leaf_reg': 8.489391593690103, 'random_strength': 3.1866823907588175, 'border_count': 194, 'bagging_temperature': 1.5972362551988368}. Best is trial 0 with value: 0.8350750605134175.\n",
      "[I 2020-08-06 01:54:04,403] Trial 1 finished with value: 0.8348652411152127 and parameters: {'max_depth': 7, 'l2_leaf_reg': 28.749460406867268, 'random_strength': 2.557006933257962, 'border_count': 184, 'bagging_temperature': 0.8337341898490402}. Best is trial 0 with value: 0.8350750605134175.\n",
      "[I 2020-08-06 01:54:27,366] Trial 2 finished with value: 0.8336091267852327 and parameters: {'max_depth': 4, 'l2_leaf_reg': 17.716137184099658, 'random_strength': 4.0522790085177, 'border_count': 132, 'bagging_temperature': 4.996254301700474}. Best is trial 0 with value: 0.8350750605134175.\n",
      "[I 2020-08-06 01:54:54,756] Trial 3 finished with value: 0.8345254020141253 and parameters: {'max_depth': 6, 'l2_leaf_reg': 30.146249471390256, 'random_strength': 0.7225715886523276, 'border_count': 157, 'bagging_temperature': 2.3636856806819817}. Best is trial 0 with value: 0.8350750605134175.\n",
      "[I 2020-08-06 01:55:11,202] Trial 4 finished with value: 0.8325129794243054 and parameters: {'max_depth': 3, 'l2_leaf_reg': 22.915367126677037, 'random_strength': 0.9919778056197298, 'border_count': 123, 'bagging_temperature': 4.761900399239737}. Best is trial 0 with value: 0.8350750605134175.\n",
      "[I 2020-08-06 01:55:37,625] Trial 5 finished with value: 0.8344172767626269 and parameters: {'max_depth': 6, 'l2_leaf_reg': 34.501938746911705, 'random_strength': 1.862365971668734, 'border_count': 169, 'bagging_temperature': 2.2768276000206713}. Best is trial 0 with value: 0.8350750605134175.\n",
      "[I 2020-08-06 01:55:58,248] Trial 6 finished with value: 0.8319838940439428 and parameters: {'max_depth': 3, 'l2_leaf_reg': 33.629486301677346, 'random_strength': 2.615552810258454, 'border_count': 128, 'bagging_temperature': 3.2026919983635365}. Best is trial 0 with value: 0.8350750605134175.\n",
      "[I 2020-08-06 01:56:39,905] Trial 7 finished with value: 0.834081042638072 and parameters: {'max_depth': 6, 'l2_leaf_reg': 21.332838226309654, 'random_strength': 2.685054933229787, 'border_count': 245, 'bagging_temperature': 2.061517029263063}. Best is trial 0 with value: 0.8350750605134175.\n",
      "[I 2020-08-06 01:57:30,737] Trial 8 finished with value: 0.8353111020579613 and parameters: {'max_depth': 7, 'l2_leaf_reg': 31.005207896586928, 'random_strength': 0.14541377797890886, 'border_count': 220, 'bagging_temperature': 1.7985874737646208}. Best is trial 8 with value: 0.8353111020579613.\n",
      "[I 2020-08-06 01:57:51,422] Trial 9 finished with value: 0.8332657644556971 and parameters: {'max_depth': 4, 'l2_leaf_reg': 20.62531586763821, 'random_strength': 1.2124679708201103, 'border_count': 148, 'bagging_temperature': 3.155176265654687}. Best is trial 8 with value: 0.8353111020579613.\n",
      "[I 2020-08-06 01:57:51,425] Finished hyperparemeter search!\n",
      "[I 2020-08-06 01:57:51,429] Refitting the estimator using 53214 samples...\n",
      "[I 2020-08-06 01:57:59,035] Finished refitting! (elapsed time: 7.604 sec.)\n",
      "c:\\users\\despik\\appdata\\local\\programs\\python\\python38\\lib\\site-packages\\sklearn\\utils\\validation.py:68: FutureWarning: Pass classifier=True as keyword args. From version 0.25 passing these as positional arguments will result in an error\n",
      "  warnings.warn(\"Pass {} as keyword args. From version 0.25 \"\n",
      "[I 2020-08-06 01:57:59,101] Searching the best hyperparameters using 53214 samples...\n",
      "[I 2020-08-06 01:58:27,101] Trial 0 finished with value: 0.8350750605134175 and parameters: {'max_depth': 6, 'l2_leaf_reg': 8.489391593690103, 'random_strength': 3.1866823907588175, 'border_count': 194, 'bagging_temperature': 1.5972362551988368}. Best is trial 0 with value: 0.8350750605134175.\n",
      "[I 2020-08-06 01:58:58,483] Trial 1 finished with value: 0.8348652411152127 and parameters: {'max_depth': 7, 'l2_leaf_reg': 28.749460406867268, 'random_strength': 2.557006933257962, 'border_count': 184, 'bagging_temperature': 0.8337341898490402}. Best is trial 0 with value: 0.8350750605134175.\n",
      "[I 2020-08-06 01:59:19,203] Trial 2 finished with value: 0.8336091267852327 and parameters: {'max_depth': 4, 'l2_leaf_reg': 17.716137184099658, 'random_strength': 4.0522790085177, 'border_count': 132, 'bagging_temperature': 4.996254301700474}. Best is trial 0 with value: 0.8350750605134175.\n"
     ]
    },
    {
     "name": "stdout",
     "output_type": "stream",
     "text": [
      "\n"
     ]
    },
    {
     "ename": "KeyboardInterrupt",
     "evalue": "",
     "output_type": "error",
     "traceback": [
      "\u001b[1;31m---------------------------------------------------------------------------\u001b[0m",
      "\u001b[1;31mKeyboardInterrupt\u001b[0m                         Traceback (most recent call last)",
      "\u001b[1;32m<timed exec>\u001b[0m in \u001b[0;36m<module>\u001b[1;34m\u001b[0m\n",
      "\u001b[1;32mc:\\users\\despik\\appdata\\local\\programs\\python\\python38\\lib\\site-packages\\optuna\\integration\\sklearn.py\u001b[0m in \u001b[0;36mfit\u001b[1;34m(self, X, y, groups, **fit_params)\u001b[0m\n\u001b[0;32m    906\u001b[0m         )\n\u001b[0;32m    907\u001b[0m \u001b[1;33m\u001b[0m\u001b[0m\n\u001b[1;32m--> 908\u001b[1;33m         self.study_.optimize(\n\u001b[0m\u001b[0;32m    909\u001b[0m             \u001b[0mobjective\u001b[0m\u001b[1;33m,\u001b[0m \u001b[0mn_jobs\u001b[0m\u001b[1;33m=\u001b[0m\u001b[0mself\u001b[0m\u001b[1;33m.\u001b[0m\u001b[0mn_jobs\u001b[0m\u001b[1;33m,\u001b[0m \u001b[0mn_trials\u001b[0m\u001b[1;33m=\u001b[0m\u001b[0mself\u001b[0m\u001b[1;33m.\u001b[0m\u001b[0mn_trials\u001b[0m\u001b[1;33m,\u001b[0m \u001b[0mtimeout\u001b[0m\u001b[1;33m=\u001b[0m\u001b[0mself\u001b[0m\u001b[1;33m.\u001b[0m\u001b[0mtimeout\u001b[0m\u001b[1;33m\u001b[0m\u001b[1;33m\u001b[0m\u001b[0m\n\u001b[0;32m    910\u001b[0m         )\n",
      "\u001b[1;32mc:\\users\\despik\\appdata\\local\\programs\\python\\python38\\lib\\site-packages\\optuna\\study.py\u001b[0m in \u001b[0;36moptimize\u001b[1;34m(self, func, n_trials, timeout, n_jobs, catch, callbacks, gc_after_trial, show_progress_bar)\u001b[0m\n\u001b[0;32m    289\u001b[0m         \u001b[1;32mtry\u001b[0m\u001b[1;33m:\u001b[0m\u001b[1;33m\u001b[0m\u001b[1;33m\u001b[0m\u001b[0m\n\u001b[0;32m    290\u001b[0m             \u001b[1;32mif\u001b[0m \u001b[0mn_jobs\u001b[0m \u001b[1;33m==\u001b[0m \u001b[1;36m1\u001b[0m\u001b[1;33m:\u001b[0m\u001b[1;33m\u001b[0m\u001b[1;33m\u001b[0m\u001b[0m\n\u001b[1;32m--> 291\u001b[1;33m                 self._optimize_sequential(\n\u001b[0m\u001b[0;32m    292\u001b[0m                     \u001b[0mfunc\u001b[0m\u001b[1;33m,\u001b[0m \u001b[0mn_trials\u001b[0m\u001b[1;33m,\u001b[0m \u001b[0mtimeout\u001b[0m\u001b[1;33m,\u001b[0m \u001b[0mcatch\u001b[0m\u001b[1;33m,\u001b[0m \u001b[0mcallbacks\u001b[0m\u001b[1;33m,\u001b[0m \u001b[0mgc_after_trial\u001b[0m\u001b[1;33m,\u001b[0m \u001b[1;32mNone\u001b[0m\u001b[1;33m\u001b[0m\u001b[1;33m\u001b[0m\u001b[0m\n\u001b[0;32m    293\u001b[0m                 )\n",
      "\u001b[1;32mc:\\users\\despik\\appdata\\local\\programs\\python\\python38\\lib\\site-packages\\optuna\\study.py\u001b[0m in \u001b[0;36m_optimize_sequential\u001b[1;34m(self, func, n_trials, timeout, catch, callbacks, gc_after_trial, time_start)\u001b[0m\n\u001b[0;32m    652\u001b[0m                     \u001b[1;32mbreak\u001b[0m\u001b[1;33m\u001b[0m\u001b[1;33m\u001b[0m\u001b[0m\n\u001b[0;32m    653\u001b[0m \u001b[1;33m\u001b[0m\u001b[0m\n\u001b[1;32m--> 654\u001b[1;33m             \u001b[0mself\u001b[0m\u001b[1;33m.\u001b[0m\u001b[0m_run_trial_and_callbacks\u001b[0m\u001b[1;33m(\u001b[0m\u001b[0mfunc\u001b[0m\u001b[1;33m,\u001b[0m \u001b[0mcatch\u001b[0m\u001b[1;33m,\u001b[0m \u001b[0mcallbacks\u001b[0m\u001b[1;33m,\u001b[0m \u001b[0mgc_after_trial\u001b[0m\u001b[1;33m)\u001b[0m\u001b[1;33m\u001b[0m\u001b[1;33m\u001b[0m\u001b[0m\n\u001b[0m\u001b[0;32m    655\u001b[0m \u001b[1;33m\u001b[0m\u001b[0m\n\u001b[0;32m    656\u001b[0m             \u001b[0mself\u001b[0m\u001b[1;33m.\u001b[0m\u001b[0m_progress_bar\u001b[0m\u001b[1;33m.\u001b[0m\u001b[0mupdate\u001b[0m\u001b[1;33m(\u001b[0m\u001b[1;33m(\u001b[0m\u001b[0mdatetime\u001b[0m\u001b[1;33m.\u001b[0m\u001b[0mdatetime\u001b[0m\u001b[1;33m.\u001b[0m\u001b[0mnow\u001b[0m\u001b[1;33m(\u001b[0m\u001b[1;33m)\u001b[0m \u001b[1;33m-\u001b[0m \u001b[0mtime_start\u001b[0m\u001b[1;33m)\u001b[0m\u001b[1;33m.\u001b[0m\u001b[0mtotal_seconds\u001b[0m\u001b[1;33m(\u001b[0m\u001b[1;33m)\u001b[0m\u001b[1;33m)\u001b[0m\u001b[1;33m\u001b[0m\u001b[1;33m\u001b[0m\u001b[0m\n",
      "\u001b[1;32mc:\\users\\despik\\appdata\\local\\programs\\python\\python38\\lib\\site-packages\\optuna\\study.py\u001b[0m in \u001b[0;36m_run_trial_and_callbacks\u001b[1;34m(self, func, catch, callbacks, gc_after_trial)\u001b[0m\n\u001b[0;32m    683\u001b[0m         \u001b[1;31m# type: (...) -> None\u001b[0m\u001b[1;33m\u001b[0m\u001b[1;33m\u001b[0m\u001b[1;33m\u001b[0m\u001b[0m\n\u001b[0;32m    684\u001b[0m \u001b[1;33m\u001b[0m\u001b[0m\n\u001b[1;32m--> 685\u001b[1;33m         \u001b[0mtrial\u001b[0m \u001b[1;33m=\u001b[0m \u001b[0mself\u001b[0m\u001b[1;33m.\u001b[0m\u001b[0m_run_trial\u001b[0m\u001b[1;33m(\u001b[0m\u001b[0mfunc\u001b[0m\u001b[1;33m,\u001b[0m \u001b[0mcatch\u001b[0m\u001b[1;33m,\u001b[0m \u001b[0mgc_after_trial\u001b[0m\u001b[1;33m)\u001b[0m\u001b[1;33m\u001b[0m\u001b[1;33m\u001b[0m\u001b[0m\n\u001b[0m\u001b[0;32m    686\u001b[0m         \u001b[1;32mif\u001b[0m \u001b[0mcallbacks\u001b[0m \u001b[1;32mis\u001b[0m \u001b[1;32mnot\u001b[0m \u001b[1;32mNone\u001b[0m\u001b[1;33m:\u001b[0m\u001b[1;33m\u001b[0m\u001b[1;33m\u001b[0m\u001b[0m\n\u001b[0;32m    687\u001b[0m             \u001b[0mfrozen_trial\u001b[0m \u001b[1;33m=\u001b[0m \u001b[0mcopy\u001b[0m\u001b[1;33m.\u001b[0m\u001b[0mdeepcopy\u001b[0m\u001b[1;33m(\u001b[0m\u001b[0mself\u001b[0m\u001b[1;33m.\u001b[0m\u001b[0m_storage\u001b[0m\u001b[1;33m.\u001b[0m\u001b[0mget_trial\u001b[0m\u001b[1;33m(\u001b[0m\u001b[0mtrial\u001b[0m\u001b[1;33m.\u001b[0m\u001b[0m_trial_id\u001b[0m\u001b[1;33m)\u001b[0m\u001b[1;33m)\u001b[0m\u001b[1;33m\u001b[0m\u001b[1;33m\u001b[0m\u001b[0m\n",
      "\u001b[1;32mc:\\users\\despik\\appdata\\local\\programs\\python\\python38\\lib\\site-packages\\optuna\\study.py\u001b[0m in \u001b[0;36m_run_trial\u001b[1;34m(self, func, catch, gc_after_trial)\u001b[0m\n\u001b[0;32m    707\u001b[0m \u001b[1;33m\u001b[0m\u001b[0m\n\u001b[0;32m    708\u001b[0m         \u001b[1;32mtry\u001b[0m\u001b[1;33m:\u001b[0m\u001b[1;33m\u001b[0m\u001b[1;33m\u001b[0m\u001b[0m\n\u001b[1;32m--> 709\u001b[1;33m             \u001b[0mresult\u001b[0m \u001b[1;33m=\u001b[0m \u001b[0mfunc\u001b[0m\u001b[1;33m(\u001b[0m\u001b[0mtrial\u001b[0m\u001b[1;33m)\u001b[0m\u001b[1;33m\u001b[0m\u001b[1;33m\u001b[0m\u001b[0m\n\u001b[0m\u001b[0;32m    710\u001b[0m         \u001b[1;32mexcept\u001b[0m \u001b[0mexceptions\u001b[0m\u001b[1;33m.\u001b[0m\u001b[0mTrialPruned\u001b[0m \u001b[1;32mas\u001b[0m \u001b[0me\u001b[0m\u001b[1;33m:\u001b[0m\u001b[1;33m\u001b[0m\u001b[1;33m\u001b[0m\u001b[0m\n\u001b[0;32m    711\u001b[0m             \u001b[0mmessage\u001b[0m \u001b[1;33m=\u001b[0m \u001b[1;34m\"Trial {} pruned. {}\"\u001b[0m\u001b[1;33m.\u001b[0m\u001b[0mformat\u001b[0m\u001b[1;33m(\u001b[0m\u001b[0mtrial_number\u001b[0m\u001b[1;33m,\u001b[0m \u001b[0mstr\u001b[0m\u001b[1;33m(\u001b[0m\u001b[0me\u001b[0m\u001b[1;33m)\u001b[0m\u001b[1;33m)\u001b[0m\u001b[1;33m\u001b[0m\u001b[1;33m\u001b[0m\u001b[0m\n",
      "\u001b[1;32mc:\\users\\despik\\appdata\\local\\programs\\python\\python38\\lib\\site-packages\\optuna\\integration\\sklearn.py\u001b[0m in \u001b[0;36m__call__\u001b[1;34m(self, trial)\u001b[0m\n\u001b[0;32m    239\u001b[0m             \u001b[0mscores\u001b[0m \u001b[1;33m=\u001b[0m \u001b[0mself\u001b[0m\u001b[1;33m.\u001b[0m\u001b[0m_cross_validate_with_pruning\u001b[0m\u001b[1;33m(\u001b[0m\u001b[0mtrial\u001b[0m\u001b[1;33m,\u001b[0m \u001b[0mestimator\u001b[0m\u001b[1;33m)\u001b[0m\u001b[1;33m\u001b[0m\u001b[1;33m\u001b[0m\u001b[0m\n\u001b[0;32m    240\u001b[0m         \u001b[1;32melse\u001b[0m\u001b[1;33m:\u001b[0m\u001b[1;33m\u001b[0m\u001b[1;33m\u001b[0m\u001b[0m\n\u001b[1;32m--> 241\u001b[1;33m             scores = cross_validate(\n\u001b[0m\u001b[0;32m    242\u001b[0m                 \u001b[0mestimator\u001b[0m\u001b[1;33m,\u001b[0m\u001b[1;33m\u001b[0m\u001b[1;33m\u001b[0m\u001b[0m\n\u001b[0;32m    243\u001b[0m                 \u001b[0mself\u001b[0m\u001b[1;33m.\u001b[0m\u001b[0mX\u001b[0m\u001b[1;33m,\u001b[0m\u001b[1;33m\u001b[0m\u001b[1;33m\u001b[0m\u001b[0m\n",
      "\u001b[1;32mc:\\users\\despik\\appdata\\local\\programs\\python\\python38\\lib\\site-packages\\sklearn\\utils\\validation.py\u001b[0m in \u001b[0;36minner_f\u001b[1;34m(*args, **kwargs)\u001b[0m\n\u001b[0;32m     71\u001b[0m                           FutureWarning)\n\u001b[0;32m     72\u001b[0m         \u001b[0mkwargs\u001b[0m\u001b[1;33m.\u001b[0m\u001b[0mupdate\u001b[0m\u001b[1;33m(\u001b[0m\u001b[1;33m{\u001b[0m\u001b[0mk\u001b[0m\u001b[1;33m:\u001b[0m \u001b[0marg\u001b[0m \u001b[1;32mfor\u001b[0m \u001b[0mk\u001b[0m\u001b[1;33m,\u001b[0m \u001b[0marg\u001b[0m \u001b[1;32min\u001b[0m \u001b[0mzip\u001b[0m\u001b[1;33m(\u001b[0m\u001b[0msig\u001b[0m\u001b[1;33m.\u001b[0m\u001b[0mparameters\u001b[0m\u001b[1;33m,\u001b[0m \u001b[0margs\u001b[0m\u001b[1;33m)\u001b[0m\u001b[1;33m}\u001b[0m\u001b[1;33m)\u001b[0m\u001b[1;33m\u001b[0m\u001b[1;33m\u001b[0m\u001b[0m\n\u001b[1;32m---> 73\u001b[1;33m         \u001b[1;32mreturn\u001b[0m \u001b[0mf\u001b[0m\u001b[1;33m(\u001b[0m\u001b[1;33m**\u001b[0m\u001b[0mkwargs\u001b[0m\u001b[1;33m)\u001b[0m\u001b[1;33m\u001b[0m\u001b[1;33m\u001b[0m\u001b[0m\n\u001b[0m\u001b[0;32m     74\u001b[0m     \u001b[1;32mreturn\u001b[0m \u001b[0minner_f\u001b[0m\u001b[1;33m\u001b[0m\u001b[1;33m\u001b[0m\u001b[0m\n\u001b[0;32m     75\u001b[0m \u001b[1;33m\u001b[0m\u001b[0m\n",
      "\u001b[1;32mc:\\users\\despik\\appdata\\local\\programs\\python\\python38\\lib\\site-packages\\sklearn\\model_selection\\_validation.py\u001b[0m in \u001b[0;36mcross_validate\u001b[1;34m(estimator, X, y, groups, scoring, cv, n_jobs, verbose, fit_params, pre_dispatch, return_train_score, return_estimator, error_score)\u001b[0m\n\u001b[0;32m    240\u001b[0m     parallel = Parallel(n_jobs=n_jobs, verbose=verbose,\n\u001b[0;32m    241\u001b[0m                         pre_dispatch=pre_dispatch)\n\u001b[1;32m--> 242\u001b[1;33m     scores = parallel(\n\u001b[0m\u001b[0;32m    243\u001b[0m         delayed(_fit_and_score)(\n\u001b[0;32m    244\u001b[0m             \u001b[0mclone\u001b[0m\u001b[1;33m(\u001b[0m\u001b[0mestimator\u001b[0m\u001b[1;33m)\u001b[0m\u001b[1;33m,\u001b[0m \u001b[0mX\u001b[0m\u001b[1;33m,\u001b[0m \u001b[0my\u001b[0m\u001b[1;33m,\u001b[0m \u001b[0mscorers\u001b[0m\u001b[1;33m,\u001b[0m \u001b[0mtrain\u001b[0m\u001b[1;33m,\u001b[0m \u001b[0mtest\u001b[0m\u001b[1;33m,\u001b[0m \u001b[0mverbose\u001b[0m\u001b[1;33m,\u001b[0m \u001b[1;32mNone\u001b[0m\u001b[1;33m,\u001b[0m\u001b[1;33m\u001b[0m\u001b[1;33m\u001b[0m\u001b[0m\n",
      "\u001b[1;32mc:\\users\\despik\\appdata\\local\\programs\\python\\python38\\lib\\site-packages\\joblib\\parallel.py\u001b[0m in \u001b[0;36m__call__\u001b[1;34m(self, iterable)\u001b[0m\n\u001b[0;32m   1027\u001b[0m             \u001b[1;31m# remaining jobs.\u001b[0m\u001b[1;33m\u001b[0m\u001b[1;33m\u001b[0m\u001b[1;33m\u001b[0m\u001b[0m\n\u001b[0;32m   1028\u001b[0m             \u001b[0mself\u001b[0m\u001b[1;33m.\u001b[0m\u001b[0m_iterating\u001b[0m \u001b[1;33m=\u001b[0m \u001b[1;32mFalse\u001b[0m\u001b[1;33m\u001b[0m\u001b[1;33m\u001b[0m\u001b[0m\n\u001b[1;32m-> 1029\u001b[1;33m             \u001b[1;32mif\u001b[0m \u001b[0mself\u001b[0m\u001b[1;33m.\u001b[0m\u001b[0mdispatch_one_batch\u001b[0m\u001b[1;33m(\u001b[0m\u001b[0miterator\u001b[0m\u001b[1;33m)\u001b[0m\u001b[1;33m:\u001b[0m\u001b[1;33m\u001b[0m\u001b[1;33m\u001b[0m\u001b[0m\n\u001b[0m\u001b[0;32m   1030\u001b[0m                 \u001b[0mself\u001b[0m\u001b[1;33m.\u001b[0m\u001b[0m_iterating\u001b[0m \u001b[1;33m=\u001b[0m \u001b[0mself\u001b[0m\u001b[1;33m.\u001b[0m\u001b[0m_original_iterator\u001b[0m \u001b[1;32mis\u001b[0m \u001b[1;32mnot\u001b[0m \u001b[1;32mNone\u001b[0m\u001b[1;33m\u001b[0m\u001b[1;33m\u001b[0m\u001b[0m\n\u001b[0;32m   1031\u001b[0m \u001b[1;33m\u001b[0m\u001b[0m\n",
      "\u001b[1;32mc:\\users\\despik\\appdata\\local\\programs\\python\\python38\\lib\\site-packages\\joblib\\parallel.py\u001b[0m in \u001b[0;36mdispatch_one_batch\u001b[1;34m(self, iterator)\u001b[0m\n\u001b[0;32m    845\u001b[0m                 \u001b[1;32mreturn\u001b[0m \u001b[1;32mFalse\u001b[0m\u001b[1;33m\u001b[0m\u001b[1;33m\u001b[0m\u001b[0m\n\u001b[0;32m    846\u001b[0m             \u001b[1;32melse\u001b[0m\u001b[1;33m:\u001b[0m\u001b[1;33m\u001b[0m\u001b[1;33m\u001b[0m\u001b[0m\n\u001b[1;32m--> 847\u001b[1;33m                 \u001b[0mself\u001b[0m\u001b[1;33m.\u001b[0m\u001b[0m_dispatch\u001b[0m\u001b[1;33m(\u001b[0m\u001b[0mtasks\u001b[0m\u001b[1;33m)\u001b[0m\u001b[1;33m\u001b[0m\u001b[1;33m\u001b[0m\u001b[0m\n\u001b[0m\u001b[0;32m    848\u001b[0m                 \u001b[1;32mreturn\u001b[0m \u001b[1;32mTrue\u001b[0m\u001b[1;33m\u001b[0m\u001b[1;33m\u001b[0m\u001b[0m\n\u001b[0;32m    849\u001b[0m \u001b[1;33m\u001b[0m\u001b[0m\n",
      "\u001b[1;32mc:\\users\\despik\\appdata\\local\\programs\\python\\python38\\lib\\site-packages\\joblib\\parallel.py\u001b[0m in \u001b[0;36m_dispatch\u001b[1;34m(self, batch)\u001b[0m\n\u001b[0;32m    763\u001b[0m         \u001b[1;32mwith\u001b[0m \u001b[0mself\u001b[0m\u001b[1;33m.\u001b[0m\u001b[0m_lock\u001b[0m\u001b[1;33m:\u001b[0m\u001b[1;33m\u001b[0m\u001b[1;33m\u001b[0m\u001b[0m\n\u001b[0;32m    764\u001b[0m             \u001b[0mjob_idx\u001b[0m \u001b[1;33m=\u001b[0m \u001b[0mlen\u001b[0m\u001b[1;33m(\u001b[0m\u001b[0mself\u001b[0m\u001b[1;33m.\u001b[0m\u001b[0m_jobs\u001b[0m\u001b[1;33m)\u001b[0m\u001b[1;33m\u001b[0m\u001b[1;33m\u001b[0m\u001b[0m\n\u001b[1;32m--> 765\u001b[1;33m             \u001b[0mjob\u001b[0m \u001b[1;33m=\u001b[0m \u001b[0mself\u001b[0m\u001b[1;33m.\u001b[0m\u001b[0m_backend\u001b[0m\u001b[1;33m.\u001b[0m\u001b[0mapply_async\u001b[0m\u001b[1;33m(\u001b[0m\u001b[0mbatch\u001b[0m\u001b[1;33m,\u001b[0m \u001b[0mcallback\u001b[0m\u001b[1;33m=\u001b[0m\u001b[0mcb\u001b[0m\u001b[1;33m)\u001b[0m\u001b[1;33m\u001b[0m\u001b[1;33m\u001b[0m\u001b[0m\n\u001b[0m\u001b[0;32m    766\u001b[0m             \u001b[1;31m# A job can complete so quickly than its callback is\u001b[0m\u001b[1;33m\u001b[0m\u001b[1;33m\u001b[0m\u001b[1;33m\u001b[0m\u001b[0m\n\u001b[0;32m    767\u001b[0m             \u001b[1;31m# called before we get here, causing self._jobs to\u001b[0m\u001b[1;33m\u001b[0m\u001b[1;33m\u001b[0m\u001b[1;33m\u001b[0m\u001b[0m\n",
      "\u001b[1;32mc:\\users\\despik\\appdata\\local\\programs\\python\\python38\\lib\\site-packages\\joblib\\_parallel_backends.py\u001b[0m in \u001b[0;36mapply_async\u001b[1;34m(self, func, callback)\u001b[0m\n\u001b[0;32m    204\u001b[0m     \u001b[1;32mdef\u001b[0m \u001b[0mapply_async\u001b[0m\u001b[1;33m(\u001b[0m\u001b[0mself\u001b[0m\u001b[1;33m,\u001b[0m \u001b[0mfunc\u001b[0m\u001b[1;33m,\u001b[0m \u001b[0mcallback\u001b[0m\u001b[1;33m=\u001b[0m\u001b[1;32mNone\u001b[0m\u001b[1;33m)\u001b[0m\u001b[1;33m:\u001b[0m\u001b[1;33m\u001b[0m\u001b[1;33m\u001b[0m\u001b[0m\n\u001b[0;32m    205\u001b[0m         \u001b[1;34m\"\"\"Schedule a func to be run\"\"\"\u001b[0m\u001b[1;33m\u001b[0m\u001b[1;33m\u001b[0m\u001b[0m\n\u001b[1;32m--> 206\u001b[1;33m         \u001b[0mresult\u001b[0m \u001b[1;33m=\u001b[0m \u001b[0mImmediateResult\u001b[0m\u001b[1;33m(\u001b[0m\u001b[0mfunc\u001b[0m\u001b[1;33m)\u001b[0m\u001b[1;33m\u001b[0m\u001b[1;33m\u001b[0m\u001b[0m\n\u001b[0m\u001b[0;32m    207\u001b[0m         \u001b[1;32mif\u001b[0m \u001b[0mcallback\u001b[0m\u001b[1;33m:\u001b[0m\u001b[1;33m\u001b[0m\u001b[1;33m\u001b[0m\u001b[0m\n\u001b[0;32m    208\u001b[0m             \u001b[0mcallback\u001b[0m\u001b[1;33m(\u001b[0m\u001b[0mresult\u001b[0m\u001b[1;33m)\u001b[0m\u001b[1;33m\u001b[0m\u001b[1;33m\u001b[0m\u001b[0m\n",
      "\u001b[1;32mc:\\users\\despik\\appdata\\local\\programs\\python\\python38\\lib\\site-packages\\joblib\\_parallel_backends.py\u001b[0m in \u001b[0;36m__init__\u001b[1;34m(self, batch)\u001b[0m\n\u001b[0;32m    568\u001b[0m         \u001b[1;31m# Don't delay the application, to avoid keeping the input\u001b[0m\u001b[1;33m\u001b[0m\u001b[1;33m\u001b[0m\u001b[1;33m\u001b[0m\u001b[0m\n\u001b[0;32m    569\u001b[0m         \u001b[1;31m# arguments in memory\u001b[0m\u001b[1;33m\u001b[0m\u001b[1;33m\u001b[0m\u001b[1;33m\u001b[0m\u001b[0m\n\u001b[1;32m--> 570\u001b[1;33m         \u001b[0mself\u001b[0m\u001b[1;33m.\u001b[0m\u001b[0mresults\u001b[0m \u001b[1;33m=\u001b[0m \u001b[0mbatch\u001b[0m\u001b[1;33m(\u001b[0m\u001b[1;33m)\u001b[0m\u001b[1;33m\u001b[0m\u001b[1;33m\u001b[0m\u001b[0m\n\u001b[0m\u001b[0;32m    571\u001b[0m \u001b[1;33m\u001b[0m\u001b[0m\n\u001b[0;32m    572\u001b[0m     \u001b[1;32mdef\u001b[0m \u001b[0mget\u001b[0m\u001b[1;33m(\u001b[0m\u001b[0mself\u001b[0m\u001b[1;33m)\u001b[0m\u001b[1;33m:\u001b[0m\u001b[1;33m\u001b[0m\u001b[1;33m\u001b[0m\u001b[0m\n",
      "\u001b[1;32mc:\\users\\despik\\appdata\\local\\programs\\python\\python38\\lib\\site-packages\\joblib\\parallel.py\u001b[0m in \u001b[0;36m__call__\u001b[1;34m(self)\u001b[0m\n\u001b[0;32m    250\u001b[0m         \u001b[1;31m# change the default number of processes to -1\u001b[0m\u001b[1;33m\u001b[0m\u001b[1;33m\u001b[0m\u001b[1;33m\u001b[0m\u001b[0m\n\u001b[0;32m    251\u001b[0m         \u001b[1;32mwith\u001b[0m \u001b[0mparallel_backend\u001b[0m\u001b[1;33m(\u001b[0m\u001b[0mself\u001b[0m\u001b[1;33m.\u001b[0m\u001b[0m_backend\u001b[0m\u001b[1;33m,\u001b[0m \u001b[0mn_jobs\u001b[0m\u001b[1;33m=\u001b[0m\u001b[0mself\u001b[0m\u001b[1;33m.\u001b[0m\u001b[0m_n_jobs\u001b[0m\u001b[1;33m)\u001b[0m\u001b[1;33m:\u001b[0m\u001b[1;33m\u001b[0m\u001b[1;33m\u001b[0m\u001b[0m\n\u001b[1;32m--> 252\u001b[1;33m             return [func(*args, **kwargs)\n\u001b[0m\u001b[0;32m    253\u001b[0m                     for func, args, kwargs in self.items]\n\u001b[0;32m    254\u001b[0m \u001b[1;33m\u001b[0m\u001b[0m\n",
      "\u001b[1;32mc:\\users\\despik\\appdata\\local\\programs\\python\\python38\\lib\\site-packages\\joblib\\parallel.py\u001b[0m in \u001b[0;36m<listcomp>\u001b[1;34m(.0)\u001b[0m\n\u001b[0;32m    250\u001b[0m         \u001b[1;31m# change the default number of processes to -1\u001b[0m\u001b[1;33m\u001b[0m\u001b[1;33m\u001b[0m\u001b[1;33m\u001b[0m\u001b[0m\n\u001b[0;32m    251\u001b[0m         \u001b[1;32mwith\u001b[0m \u001b[0mparallel_backend\u001b[0m\u001b[1;33m(\u001b[0m\u001b[0mself\u001b[0m\u001b[1;33m.\u001b[0m\u001b[0m_backend\u001b[0m\u001b[1;33m,\u001b[0m \u001b[0mn_jobs\u001b[0m\u001b[1;33m=\u001b[0m\u001b[0mself\u001b[0m\u001b[1;33m.\u001b[0m\u001b[0m_n_jobs\u001b[0m\u001b[1;33m)\u001b[0m\u001b[1;33m:\u001b[0m\u001b[1;33m\u001b[0m\u001b[1;33m\u001b[0m\u001b[0m\n\u001b[1;32m--> 252\u001b[1;33m             return [func(*args, **kwargs)\n\u001b[0m\u001b[0;32m    253\u001b[0m                     for func, args, kwargs in self.items]\n\u001b[0;32m    254\u001b[0m \u001b[1;33m\u001b[0m\u001b[0m\n",
      "\u001b[1;32mc:\\users\\despik\\appdata\\local\\programs\\python\\python38\\lib\\site-packages\\sklearn\\model_selection\\_validation.py\u001b[0m in \u001b[0;36m_fit_and_score\u001b[1;34m(estimator, X, y, scorer, train, test, verbose, parameters, fit_params, return_train_score, return_parameters, return_n_test_samples, return_times, return_estimator, error_score)\u001b[0m\n\u001b[0;32m    529\u001b[0m             \u001b[0mestimator\u001b[0m\u001b[1;33m.\u001b[0m\u001b[0mfit\u001b[0m\u001b[1;33m(\u001b[0m\u001b[0mX_train\u001b[0m\u001b[1;33m,\u001b[0m \u001b[1;33m**\u001b[0m\u001b[0mfit_params\u001b[0m\u001b[1;33m)\u001b[0m\u001b[1;33m\u001b[0m\u001b[1;33m\u001b[0m\u001b[0m\n\u001b[0;32m    530\u001b[0m         \u001b[1;32melse\u001b[0m\u001b[1;33m:\u001b[0m\u001b[1;33m\u001b[0m\u001b[1;33m\u001b[0m\u001b[0m\n\u001b[1;32m--> 531\u001b[1;33m             \u001b[0mestimator\u001b[0m\u001b[1;33m.\u001b[0m\u001b[0mfit\u001b[0m\u001b[1;33m(\u001b[0m\u001b[0mX_train\u001b[0m\u001b[1;33m,\u001b[0m \u001b[0my_train\u001b[0m\u001b[1;33m,\u001b[0m \u001b[1;33m**\u001b[0m\u001b[0mfit_params\u001b[0m\u001b[1;33m)\u001b[0m\u001b[1;33m\u001b[0m\u001b[1;33m\u001b[0m\u001b[0m\n\u001b[0m\u001b[0;32m    532\u001b[0m \u001b[1;33m\u001b[0m\u001b[0m\n\u001b[0;32m    533\u001b[0m     \u001b[1;32mexcept\u001b[0m \u001b[0mException\u001b[0m \u001b[1;32mas\u001b[0m \u001b[0me\u001b[0m\u001b[1;33m:\u001b[0m\u001b[1;33m\u001b[0m\u001b[1;33m\u001b[0m\u001b[0m\n",
      "\u001b[1;32mc:\\users\\despik\\appdata\\local\\programs\\python\\python38\\lib\\site-packages\\catboost\\core.py\u001b[0m in \u001b[0;36mfit\u001b[1;34m(self, X, y, cat_features, text_features, sample_weight, baseline, use_best_model, eval_set, verbose, logging_level, plot, column_description, verbose_eval, metric_period, silent, early_stopping_rounds, save_snapshot, snapshot_file, snapshot_interval, init_model)\u001b[0m\n\u001b[0;32m   4111\u001b[0m             \u001b[0mself\u001b[0m\u001b[1;33m.\u001b[0m\u001b[0m_check_is_classification_objective\u001b[0m\u001b[1;33m(\u001b[0m\u001b[0mparams\u001b[0m\u001b[1;33m[\u001b[0m\u001b[1;34m'loss_function'\u001b[0m\u001b[1;33m]\u001b[0m\u001b[1;33m)\u001b[0m\u001b[1;33m\u001b[0m\u001b[1;33m\u001b[0m\u001b[0m\n\u001b[0;32m   4112\u001b[0m \u001b[1;33m\u001b[0m\u001b[0m\n\u001b[1;32m-> 4113\u001b[1;33m         self._fit(X, y, cat_features, text_features, None, sample_weight, None, None, None, None, baseline, use_best_model,\n\u001b[0m\u001b[0;32m   4114\u001b[0m                   \u001b[0meval_set\u001b[0m\u001b[1;33m,\u001b[0m \u001b[0mverbose\u001b[0m\u001b[1;33m,\u001b[0m \u001b[0mlogging_level\u001b[0m\u001b[1;33m,\u001b[0m \u001b[0mplot\u001b[0m\u001b[1;33m,\u001b[0m \u001b[0mcolumn_description\u001b[0m\u001b[1;33m,\u001b[0m \u001b[0mverbose_eval\u001b[0m\u001b[1;33m,\u001b[0m \u001b[0mmetric_period\u001b[0m\u001b[1;33m,\u001b[0m\u001b[1;33m\u001b[0m\u001b[1;33m\u001b[0m\u001b[0m\n\u001b[0;32m   4115\u001b[0m                   silent, early_stopping_rounds, save_snapshot, snapshot_file, snapshot_interval, init_model)\n",
      "\u001b[1;32mc:\\users\\despik\\appdata\\local\\programs\\python\\python38\\lib\\site-packages\\catboost\\core.py\u001b[0m in \u001b[0;36m_fit\u001b[1;34m(self, X, y, cat_features, text_features, pairs, sample_weight, group_id, group_weight, subgroup_id, pairs_weight, baseline, use_best_model, eval_set, verbose, logging_level, plot, column_description, verbose_eval, metric_period, silent, early_stopping_rounds, save_snapshot, snapshot_file, snapshot_interval, init_model)\u001b[0m\n\u001b[0;32m   1736\u001b[0m \u001b[1;33m\u001b[0m\u001b[0m\n\u001b[0;32m   1737\u001b[0m         \u001b[1;32mwith\u001b[0m \u001b[0mlog_fixup\u001b[0m\u001b[1;33m(\u001b[0m\u001b[1;33m)\u001b[0m\u001b[1;33m,\u001b[0m \u001b[0mplot_wrapper\u001b[0m\u001b[1;33m(\u001b[0m\u001b[0mplot\u001b[0m\u001b[1;33m,\u001b[0m \u001b[1;33m[\u001b[0m\u001b[0m_get_train_dir\u001b[0m\u001b[1;33m(\u001b[0m\u001b[0mself\u001b[0m\u001b[1;33m.\u001b[0m\u001b[0mget_params\u001b[0m\u001b[1;33m(\u001b[0m\u001b[1;33m)\u001b[0m\u001b[1;33m)\u001b[0m\u001b[1;33m]\u001b[0m\u001b[1;33m)\u001b[0m\u001b[1;33m:\u001b[0m\u001b[1;33m\u001b[0m\u001b[1;33m\u001b[0m\u001b[0m\n\u001b[1;32m-> 1738\u001b[1;33m             self._train(\n\u001b[0m\u001b[0;32m   1739\u001b[0m                 \u001b[0mtrain_pool\u001b[0m\u001b[1;33m,\u001b[0m\u001b[1;33m\u001b[0m\u001b[1;33m\u001b[0m\u001b[0m\n\u001b[0;32m   1740\u001b[0m                 \u001b[0mtrain_params\u001b[0m\u001b[1;33m[\u001b[0m\u001b[1;34m\"eval_sets\"\u001b[0m\u001b[1;33m]\u001b[0m\u001b[1;33m,\u001b[0m\u001b[1;33m\u001b[0m\u001b[1;33m\u001b[0m\u001b[0m\n",
      "\u001b[1;32mc:\\users\\despik\\appdata\\local\\programs\\python\\python38\\lib\\site-packages\\catboost\\core.py\u001b[0m in \u001b[0;36m_train\u001b[1;34m(self, train_pool, test_pool, params, allow_clear_pool, init_model)\u001b[0m\n\u001b[0;32m   1228\u001b[0m \u001b[1;33m\u001b[0m\u001b[0m\n\u001b[0;32m   1229\u001b[0m     \u001b[1;32mdef\u001b[0m \u001b[0m_train\u001b[0m\u001b[1;33m(\u001b[0m\u001b[0mself\u001b[0m\u001b[1;33m,\u001b[0m \u001b[0mtrain_pool\u001b[0m\u001b[1;33m,\u001b[0m \u001b[0mtest_pool\u001b[0m\u001b[1;33m,\u001b[0m \u001b[0mparams\u001b[0m\u001b[1;33m,\u001b[0m \u001b[0mallow_clear_pool\u001b[0m\u001b[1;33m,\u001b[0m \u001b[0minit_model\u001b[0m\u001b[1;33m)\u001b[0m\u001b[1;33m:\u001b[0m\u001b[1;33m\u001b[0m\u001b[1;33m\u001b[0m\u001b[0m\n\u001b[1;32m-> 1230\u001b[1;33m         \u001b[0mself\u001b[0m\u001b[1;33m.\u001b[0m\u001b[0m_object\u001b[0m\u001b[1;33m.\u001b[0m\u001b[0m_train\u001b[0m\u001b[1;33m(\u001b[0m\u001b[0mtrain_pool\u001b[0m\u001b[1;33m,\u001b[0m \u001b[0mtest_pool\u001b[0m\u001b[1;33m,\u001b[0m \u001b[0mparams\u001b[0m\u001b[1;33m,\u001b[0m \u001b[0mallow_clear_pool\u001b[0m\u001b[1;33m,\u001b[0m \u001b[0minit_model\u001b[0m\u001b[1;33m.\u001b[0m\u001b[0m_object\u001b[0m \u001b[1;32mif\u001b[0m \u001b[0minit_model\u001b[0m \u001b[1;32melse\u001b[0m \u001b[1;32mNone\u001b[0m\u001b[1;33m)\u001b[0m\u001b[1;33m\u001b[0m\u001b[1;33m\u001b[0m\u001b[0m\n\u001b[0m\u001b[0;32m   1231\u001b[0m         \u001b[0mself\u001b[0m\u001b[1;33m.\u001b[0m\u001b[0m_set_trained_model_attributes\u001b[0m\u001b[1;33m(\u001b[0m\u001b[1;33m)\u001b[0m\u001b[1;33m\u001b[0m\u001b[1;33m\u001b[0m\u001b[0m\n\u001b[0;32m   1232\u001b[0m \u001b[1;33m\u001b[0m\u001b[0m\n",
      "\u001b[1;32m_catboost.pyx\u001b[0m in \u001b[0;36m_catboost._CatBoost._train\u001b[1;34m()\u001b[0m\n",
      "\u001b[1;32m_catboost.pyx\u001b[0m in \u001b[0;36m_catboost._CatBoost._train\u001b[1;34m()\u001b[0m\n",
      "\u001b[1;31mKeyboardInterrupt\u001b[0m: "
     ]
    }
   ],
   "source": [
    "%%time\n",
    "for i in trange(1000):\n",
    "    optuna_search.fit(X_train, y_train)\n",
    "\n",
    "print(\"Наилучшие значения гиперпараметров: {}\".format(\n",
    "    optuna_search.best_params_))\n",
    "print(\"Наилучшее значение auc: {:.3f}\".format(\n",
    "    np.abs(optuna_search.best_score_)))\n",
    "print(\"auc на тестовой выборке: {:.3f}\".format(\n",
    "    roc_auc_score(y_test, optuna_search.predict_proba(X_test)[:, 1])))\n",
    "print(\"\")"
   ]
  },
  {
   "cell_type": "code",
   "execution_count": 69,
   "metadata": {},
   "outputs": [],
   "source": [
    "import sklearn"
   ]
  },
  {
   "cell_type": "code",
   "execution_count": 70,
   "metadata": {},
   "outputs": [
    {
     "data": {
      "text/plain": [
       "dict_keys(['explained_variance', 'r2', 'max_error', 'neg_median_absolute_error', 'neg_mean_absolute_error', 'neg_mean_squared_error', 'neg_mean_squared_log_error', 'neg_root_mean_squared_error', 'neg_mean_poisson_deviance', 'neg_mean_gamma_deviance', 'accuracy', 'roc_auc', 'roc_auc_ovr', 'roc_auc_ovo', 'roc_auc_ovr_weighted', 'roc_auc_ovo_weighted', 'balanced_accuracy', 'average_precision', 'neg_log_loss', 'neg_brier_score', 'adjusted_rand_score', 'homogeneity_score', 'completeness_score', 'v_measure_score', 'mutual_info_score', 'adjusted_mutual_info_score', 'normalized_mutual_info_score', 'fowlkes_mallows_score', 'precision', 'precision_macro', 'precision_micro', 'precision_samples', 'precision_weighted', 'recall', 'recall_macro', 'recall_micro', 'recall_samples', 'recall_weighted', 'f1', 'f1_macro', 'f1_micro', 'f1_samples', 'f1_weighted', 'jaccard', 'jaccard_macro', 'jaccard_micro', 'jaccard_samples', 'jaccard_weighted'])"
      ]
     },
     "execution_count": 70,
     "metadata": {},
     "output_type": "execute_result"
    }
   ],
   "source": [
    "sklearn.metrics.SCORERS.keys()"
   ]
  },
  {
   "cell_type": "code",
   "execution_count": 97,
   "metadata": {},
   "outputs": [
    {
     "data": {
      "text/html": [
       "<div>\n",
       "<style scoped>\n",
       "    .dataframe tbody tr th:only-of-type {\n",
       "        vertical-align: middle;\n",
       "    }\n",
       "\n",
       "    .dataframe tbody tr th {\n",
       "        vertical-align: top;\n",
       "    }\n",
       "\n",
       "    .dataframe thead th {\n",
       "        text-align: right;\n",
       "    }\n",
       "</style>\n",
       "<table border=\"1\" class=\"dataframe\">\n",
       "  <thead>\n",
       "    <tr style=\"text-align: right;\">\n",
       "      <th></th>\n",
       "      <th>var15</th>\n",
       "      <th>imp_op_var41_efect_ult1</th>\n",
       "      <th>imp_op_var39_efect_ult1</th>\n",
       "      <th>ind_var5_0</th>\n",
       "      <th>ind_var5</th>\n",
       "      <th>ind_var8_0</th>\n",
       "      <th>ind_var8</th>\n",
       "      <th>ind_var12_0</th>\n",
       "      <th>ind_var12</th>\n",
       "      <th>ind_var13_0</th>\n",
       "      <th>ind_var13_corto_0</th>\n",
       "      <th>ind_var13_corto</th>\n",
       "      <th>ind_var13</th>\n",
       "      <th>ind_var24</th>\n",
       "      <th>ind_var30</th>\n",
       "      <th>ind_var39_0</th>\n",
       "      <th>ind_var41_0</th>\n",
       "      <th>num_var4</th>\n",
       "      <th>num_var5_0</th>\n",
       "      <th>num_var5</th>\n",
       "      <th>num_var8_0</th>\n",
       "      <th>num_var8</th>\n",
       "      <th>num_var12</th>\n",
       "      <th>num_var13_0</th>\n",
       "      <th>num_var13_corto_0</th>\n",
       "      <th>num_var13_corto</th>\n",
       "      <th>num_var13</th>\n",
       "      <th>num_var24</th>\n",
       "      <th>num_var30</th>\n",
       "      <th>num_var35</th>\n",
       "      <th>num_var42</th>\n",
       "      <th>saldo_var30</th>\n",
       "      <th>var36</th>\n",
       "      <th>num_meses_var5_ult3</th>\n",
       "      <th>num_meses_var13_corto_ult3</th>\n",
       "    </tr>\n",
       "  </thead>\n",
       "  <tbody>\n",
       "    <tr>\n",
       "      <th>0</th>\n",
       "      <td>32</td>\n",
       "      <td>0.0</td>\n",
       "      <td>0.0</td>\n",
       "      <td>1</td>\n",
       "      <td>1</td>\n",
       "      <td>0</td>\n",
       "      <td>0</td>\n",
       "      <td>0</td>\n",
       "      <td>0</td>\n",
       "      <td>0</td>\n",
       "      <td>0</td>\n",
       "      <td>0</td>\n",
       "      <td>0</td>\n",
       "      <td>0</td>\n",
       "      <td>1</td>\n",
       "      <td>1</td>\n",
       "      <td>1</td>\n",
       "      <td>1</td>\n",
       "      <td>3</td>\n",
       "      <td>3</td>\n",
       "      <td>0</td>\n",
       "      <td>0</td>\n",
       "      <td>0</td>\n",
       "      <td>0</td>\n",
       "      <td>0</td>\n",
       "      <td>0</td>\n",
       "      <td>0</td>\n",
       "      <td>0</td>\n",
       "      <td>3</td>\n",
       "      <td>3</td>\n",
       "      <td>3</td>\n",
       "      <td>6.0</td>\n",
       "      <td>3</td>\n",
       "      <td>3</td>\n",
       "      <td>0</td>\n",
       "    </tr>\n",
       "    <tr>\n",
       "      <th>1</th>\n",
       "      <td>35</td>\n",
       "      <td>0.0</td>\n",
       "      <td>0.0</td>\n",
       "      <td>1</td>\n",
       "      <td>1</td>\n",
       "      <td>0</td>\n",
       "      <td>0</td>\n",
       "      <td>0</td>\n",
       "      <td>0</td>\n",
       "      <td>0</td>\n",
       "      <td>0</td>\n",
       "      <td>0</td>\n",
       "      <td>0</td>\n",
       "      <td>0</td>\n",
       "      <td>1</td>\n",
       "      <td>0</td>\n",
       "      <td>0</td>\n",
       "      <td>1</td>\n",
       "      <td>3</td>\n",
       "      <td>3</td>\n",
       "      <td>0</td>\n",
       "      <td>0</td>\n",
       "      <td>0</td>\n",
       "      <td>0</td>\n",
       "      <td>0</td>\n",
       "      <td>0</td>\n",
       "      <td>0</td>\n",
       "      <td>0</td>\n",
       "      <td>3</td>\n",
       "      <td>3</td>\n",
       "      <td>3</td>\n",
       "      <td>3.0</td>\n",
       "      <td>3</td>\n",
       "      <td>3</td>\n",
       "      <td>0</td>\n",
       "    </tr>\n",
       "    <tr>\n",
       "      <th>2</th>\n",
       "      <td>23</td>\n",
       "      <td>60.0</td>\n",
       "      <td>60.0</td>\n",
       "      <td>1</td>\n",
       "      <td>1</td>\n",
       "      <td>0</td>\n",
       "      <td>0</td>\n",
       "      <td>0</td>\n",
       "      <td>0</td>\n",
       "      <td>0</td>\n",
       "      <td>0</td>\n",
       "      <td>0</td>\n",
       "      <td>0</td>\n",
       "      <td>0</td>\n",
       "      <td>1</td>\n",
       "      <td>1</td>\n",
       "      <td>1</td>\n",
       "      <td>2</td>\n",
       "      <td>3</td>\n",
       "      <td>3</td>\n",
       "      <td>0</td>\n",
       "      <td>0</td>\n",
       "      <td>0</td>\n",
       "      <td>0</td>\n",
       "      <td>0</td>\n",
       "      <td>0</td>\n",
       "      <td>0</td>\n",
       "      <td>0</td>\n",
       "      <td>3</td>\n",
       "      <td>6</td>\n",
       "      <td>3</td>\n",
       "      <td>30.0</td>\n",
       "      <td>3</td>\n",
       "      <td>3</td>\n",
       "      <td>0</td>\n",
       "    </tr>\n",
       "    <tr>\n",
       "      <th>3</th>\n",
       "      <td>24</td>\n",
       "      <td>0.0</td>\n",
       "      <td>0.0</td>\n",
       "      <td>1</td>\n",
       "      <td>0</td>\n",
       "      <td>0</td>\n",
       "      <td>0</td>\n",
       "      <td>0</td>\n",
       "      <td>0</td>\n",
       "      <td>0</td>\n",
       "      <td>0</td>\n",
       "      <td>0</td>\n",
       "      <td>0</td>\n",
       "      <td>0</td>\n",
       "      <td>0</td>\n",
       "      <td>1</td>\n",
       "      <td>1</td>\n",
       "      <td>0</td>\n",
       "      <td>3</td>\n",
       "      <td>0</td>\n",
       "      <td>0</td>\n",
       "      <td>0</td>\n",
       "      <td>0</td>\n",
       "      <td>0</td>\n",
       "      <td>0</td>\n",
       "      <td>0</td>\n",
       "      <td>0</td>\n",
       "      <td>0</td>\n",
       "      <td>0</td>\n",
       "      <td>0</td>\n",
       "      <td>0</td>\n",
       "      <td>0.0</td>\n",
       "      <td>99</td>\n",
       "      <td>0</td>\n",
       "      <td>0</td>\n",
       "    </tr>\n",
       "    <tr>\n",
       "      <th>4</th>\n",
       "      <td>23</td>\n",
       "      <td>0.0</td>\n",
       "      <td>0.0</td>\n",
       "      <td>1</td>\n",
       "      <td>1</td>\n",
       "      <td>0</td>\n",
       "      <td>0</td>\n",
       "      <td>0</td>\n",
       "      <td>0</td>\n",
       "      <td>0</td>\n",
       "      <td>0</td>\n",
       "      <td>0</td>\n",
       "      <td>0</td>\n",
       "      <td>0</td>\n",
       "      <td>1</td>\n",
       "      <td>1</td>\n",
       "      <td>1</td>\n",
       "      <td>1</td>\n",
       "      <td>3</td>\n",
       "      <td>3</td>\n",
       "      <td>0</td>\n",
       "      <td>0</td>\n",
       "      <td>0</td>\n",
       "      <td>0</td>\n",
       "      <td>0</td>\n",
       "      <td>0</td>\n",
       "      <td>0</td>\n",
       "      <td>0</td>\n",
       "      <td>3</td>\n",
       "      <td>3</td>\n",
       "      <td>3</td>\n",
       "      <td>30.0</td>\n",
       "      <td>3</td>\n",
       "      <td>3</td>\n",
       "      <td>0</td>\n",
       "    </tr>\n",
       "  </tbody>\n",
       "</table>\n",
       "</div>"
      ],
      "text/plain": [
       "   var15  imp_op_var41_efect_ult1  imp_op_var39_efect_ult1  ind_var5_0  \\\n",
       "0     32                      0.0                      0.0           1   \n",
       "1     35                      0.0                      0.0           1   \n",
       "2     23                     60.0                     60.0           1   \n",
       "3     24                      0.0                      0.0           1   \n",
       "4     23                      0.0                      0.0           1   \n",
       "\n",
       "   ind_var5  ind_var8_0  ind_var8  ind_var12_0  ind_var12  ind_var13_0  \\\n",
       "0         1           0         0            0          0            0   \n",
       "1         1           0         0            0          0            0   \n",
       "2         1           0         0            0          0            0   \n",
       "3         0           0         0            0          0            0   \n",
       "4         1           0         0            0          0            0   \n",
       "\n",
       "   ind_var13_corto_0  ind_var13_corto  ind_var13  ind_var24  ind_var30  \\\n",
       "0                  0                0          0          0          1   \n",
       "1                  0                0          0          0          1   \n",
       "2                  0                0          0          0          1   \n",
       "3                  0                0          0          0          0   \n",
       "4                  0                0          0          0          1   \n",
       "\n",
       "   ind_var39_0  ind_var41_0  num_var4  num_var5_0  num_var5  num_var8_0  \\\n",
       "0            1            1         1           3         3           0   \n",
       "1            0            0         1           3         3           0   \n",
       "2            1            1         2           3         3           0   \n",
       "3            1            1         0           3         0           0   \n",
       "4            1            1         1           3         3           0   \n",
       "\n",
       "   num_var8  num_var12  num_var13_0  num_var13_corto_0  num_var13_corto  \\\n",
       "0         0          0            0                  0                0   \n",
       "1         0          0            0                  0                0   \n",
       "2         0          0            0                  0                0   \n",
       "3         0          0            0                  0                0   \n",
       "4         0          0            0                  0                0   \n",
       "\n",
       "   num_var13  num_var24  num_var30  num_var35  num_var42  saldo_var30  var36  \\\n",
       "0          0          0          3          3          3          6.0      3   \n",
       "1          0          0          3          3          3          3.0      3   \n",
       "2          0          0          3          6          3         30.0      3   \n",
       "3          0          0          0          0          0          0.0     99   \n",
       "4          0          0          3          3          3         30.0      3   \n",
       "\n",
       "   num_meses_var5_ult3  num_meses_var13_corto_ult3  \n",
       "0                    3                           0  \n",
       "1                    3                           0  \n",
       "2                    3                           0  \n",
       "3                    0                           0  \n",
       "4                    3                           0  "
      ]
     },
     "execution_count": 97,
     "metadata": {},
     "output_type": "execute_result"
    }
   ],
   "source": [
    "test[need_columns].head()"
   ]
  },
  {
   "cell_type": "code",
   "execution_count": null,
   "metadata": {},
   "outputs": [],
   "source": []
  },
  {
   "cell_type": "code",
   "execution_count": 196,
   "metadata": {},
   "outputs": [],
   "source": [
    "submission_predictions = cb_model.predict(test[need_columns])"
   ]
  },
  {
   "cell_type": "code",
   "execution_count": 197,
   "metadata": {},
   "outputs": [
    {
     "data": {
      "text/plain": [
       "(75818,)"
      ]
     },
     "execution_count": 197,
     "metadata": {},
     "output_type": "execute_result"
    }
   ],
   "source": [
    "submission_predictions.shape"
   ]
  },
  {
   "cell_type": "code",
   "execution_count": 56,
   "metadata": {},
   "outputs": [
    {
     "data": {
      "text/plain": [
       "(75818, 147)"
      ]
     },
     "execution_count": 56,
     "metadata": {},
     "output_type": "execute_result"
    }
   ],
   "source": [
    "test.shape"
   ]
  },
  {
   "cell_type": "code",
   "execution_count": 198,
   "metadata": {},
   "outputs": [
    {
     "name": "stdout",
     "output_type": "stream",
     "text": [
      "(75818, 2)\n"
     ]
    }
   ],
   "source": [
    "submission = pd.DataFrame({\n",
    "        \"ID\": test['ID'],\n",
    "        \"TARGET\": submission_predictions\n",
    "    })\n",
    "\n",
    "submission.to_csv(\"submission_santander_3.csv\", index=False)\n",
    "print(submission.shape)"
   ]
  },
  {
   "cell_type": "code",
   "execution_count": null,
   "metadata": {},
   "outputs": [],
   "source": []
  },
  {
   "cell_type": "code",
   "execution_count": null,
   "metadata": {},
   "outputs": [],
   "source": []
  }
 ],
 "metadata": {
  "kernelspec": {
   "display_name": "Python 3",
   "language": "python",
   "name": "python3"
  },
  "language_info": {
   "codemirror_mode": {
    "name": "ipython",
    "version": 3
   },
   "file_extension": ".py",
   "mimetype": "text/x-python",
   "name": "python",
   "nbconvert_exporter": "python",
   "pygments_lexer": "ipython3",
   "version": "3.8.3"
  }
 },
 "nbformat": 4,
 "nbformat_minor": 4
}
